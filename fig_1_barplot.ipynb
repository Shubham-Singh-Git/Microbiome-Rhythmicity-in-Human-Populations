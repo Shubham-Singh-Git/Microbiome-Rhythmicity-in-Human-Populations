{
 "cells": [
  {
   "cell_type": "code",
   "execution_count": 1,
   "metadata": {},
   "outputs": [],
   "source": [
    "import pandas as pd\n",
    "import seaborn as sns\n",
    "import matplotlib.pyplot as plt\n",
    "import matplotlib.patches as mpatches"
   ]
  },
  {
   "cell_type": "code",
   "execution_count": 2,
   "metadata": {},
   "outputs": [],
   "source": [
    "plt.rcParams['font.family'] = 'sans-serif'\n",
    "plt.rcParams['font.sans-serif'] = ['Arial', 'DejaVu Sans']\n",
    "plt.rcParams['svg.fonttype'] = 'none'\n",
    "sns.set(style='whitegrid')"
   ]
  },
  {
   "cell_type": "code",
   "execution_count": 3,
   "metadata": {},
   "outputs": [],
   "source": [
    "#open cosine wave regression results for all taxonomic levels\n",
    "phyr = pd.read_csv('/home/shs008/zarrinpar/Pynchon/Notebooks/arrhythmia/agp/new_filtering2/results/phylum.csv', index_col = 'test')\n",
    "classr = pd.read_csv('/home/shs008/zarrinpar/Pynchon/Notebooks/arrhythmia/agp/new_filtering2/results/class.csv', index_col = 'test')\n",
    "orderr = pd.read_csv('/home/shs008/zarrinpar/Pynchon/Notebooks/arrhythmia/agp/new_filtering2/results/order.csv', index_col = 'test')\n",
    "familyr = pd.read_csv('/home/shs008/zarrinpar/Pynchon/Notebooks/arrhythmia/agp/new_filtering2/results/family.csv', index_col = 'test')\n",
    "genusr = pd.read_csv('/home/shs008/zarrinpar/Pynchon/Notebooks/arrhythmia/agp/new_filtering2/results/genus.csv', index_col = 'test')\n",
    "asvr = pd.read_csv('/home/shs008/zarrinpar/Pynchon/Notebooks/arrhythmia/agp/new_filtering2/results/asv.csv', index_col = 'test')"
   ]
  },
  {
   "cell_type": "code",
   "execution_count": 4,
   "metadata": {},
   "outputs": [],
   "source": [
    "#count number of significantly rhythmic clades\n",
    "phyrr = phyr[phyr.q<0.05]\n",
    "classrr = classr[classr.q<0.05]\n",
    "orderrr = orderr[orderr.q<0.05]\n",
    "familyrr = familyr[familyr.q<0.05]\n",
    "genusrr = genusr[genusr.q<0.05]\n",
    "asvrr = asvr[asvr.q<0.05]"
   ]
  },
  {
   "cell_type": "code",
   "execution_count": 5,
   "metadata": {},
   "outputs": [],
   "source": [
    "phy = {'Taxonomic Level': ['Phylum\\n'+str(len(phyrr))+'/'+str(len(phyr))], 'Percentage Rhythmic': pd.Series([len(phyrr)/len(phyr)*100])}\n",
    "phybar = pd.DataFrame(data=phy)\n",
    "phy2 = {'Taxonomic Level': ['Phylum\\n'+str(len(phyrr))+'/14'+str(len(phyr))], 'Percentage Rhythmic': pd.Series([100])}\n",
    "phybar2 = pd.DataFrame(data=phy2)"
   ]
  },
  {
   "cell_type": "code",
   "execution_count": 6,
   "metadata": {},
   "outputs": [],
   "source": [
    "clas = {'Taxonomic Level': ['Class\\n'+str(len(classrr))+'/'+str(len(classr))], 'Percentage Rhythmic': pd.Series([len(classrr)/len(classr)*100])}\n",
    "clasbar = pd.DataFrame(data=clas)\n",
    "clas2 = {'Taxonomic Level': ['Class\\n'+str(len(classrr))+'/'+str(len(classr))], 'Percentage Rhythmic': pd.Series([100])}\n",
    "clasbar2 = pd.DataFrame(data=clas2)"
   ]
  },
  {
   "cell_type": "code",
   "execution_count": 7,
   "metadata": {},
   "outputs": [],
   "source": [
    "order = {'Taxonomic Level': ['Order\\n'+str(len(orderrr))+'/'+str(len(orderr))], 'Percentage Rhythmic': pd.Series([len(orderrr)/len(orderr)*100])}\n",
    "orderbar = pd.DataFrame(data=order)\n",
    "order2 = {'Taxonomic Level': ['Order\\n'+str(len(orderrr))+'/'+str(len(orderr))], 'Percentage Rhythmic': pd.Series([100])}\n",
    "orderbar2 = pd.DataFrame(data=order2)"
   ]
  },
  {
   "cell_type": "code",
   "execution_count": 8,
   "metadata": {},
   "outputs": [],
   "source": [
    "fam = {'Taxonomic Level': ['Family\\n'+str(len(familyrr))+'/'+str(len(familyr))], 'Percentage Rhythmic': pd.Series([len(familyrr)/len(familyr)*100])}\n",
    "fambar = pd.DataFrame(data=fam)\n",
    "fam2 = {'Taxonomic Level': ['Family\\n'+str(len(familyrr))+'/'+str(len(familyr))], 'Percentage Rhythmic': pd.Series([100])}\n",
    "fambar2 = pd.DataFrame(data=fam2)"
   ]
  },
  {
   "cell_type": "code",
   "execution_count": 9,
   "metadata": {},
   "outputs": [],
   "source": [
    "gen = {'Taxonomic Level': ['Genus\\n'+str(len(genusrr))+'/'+str(len(genusr))], 'Percentage Rhythmic': pd.Series([len(genusrr)/len(genusr)*100])}\n",
    "genbar = pd.DataFrame(data=gen)\n",
    "gen2 = {'Taxonomic Level': ['Genus\\n'+str(len(genusrr))+'/'+str(len(genusr))], 'Percentage Rhythmic': pd.Series([100])}\n",
    "genbar2 = pd.DataFrame(data=gen2)"
   ]
  },
  {
   "cell_type": "code",
   "execution_count": 10,
   "metadata": {},
   "outputs": [],
   "source": [
    "asv = {'Taxonomic Level': ['ASV\\n'+str(len(asvrr))+'/'+str(len(asvr))], 'Percentage Rhythmic': pd.Series([len(asvrr)/len(asvr)*100])}\n",
    "asvbar = pd.DataFrame(data=asv)\n",
    "asv2 = {'Taxonomic Level': ['ASV\\n'+str(len(asvrr))+'/'+str(len(asvr))], 'Percentage Rhythmic': pd.Series([100])}\n",
    "asvbar2 = pd.DataFrame(data=asv2)"
   ]
  },
  {
   "cell_type": "code",
   "execution_count": 11,
   "metadata": {},
   "outputs": [],
   "source": [
    "db = pd.concat([phybar,clasbar,orderbar,fambar,genbar,asvbar])\n",
    "lb = pd.concat([phybar2,clasbar2,orderbar2,fambar2,genbar2,asvbar2])"
   ]
  },
  {
   "cell_type": "code",
   "execution_count": 12,
   "metadata": {},
   "outputs": [
    {
     "data": {
      "text/plain": [
       "[None, None, None, None]"
      ]
     },
     "execution_count": 12,
     "metadata": {},
     "output_type": "execute_result"
    },
    {
     "data": {
      "image/png": "[encoded data removed]",
      "text/plain": [
       "<Figure size 158.4x288 with 1 Axes>"
      ]
     },
     "metadata": {},
     "output_type": "display_data"
    }
   ],
   "source": [
    "fig, ax = plt.subplots(figsize = (2.2, 4))\n",
    "sns.set(style=\"white\")\n",
    "sns.despine(bottom = True, left = True)\n",
    "jk = sns.barplot(y = lb['Taxonomic Level'],x = lb['Percentage Rhythmic'], color = 'lightblue')\n",
    "j = sns.barplot(y = db['Taxonomic Level'],x = db['Percentage Rhythmic'], color = 'darkblue')\n",
    "top_bar = mpatches.Patch(color='darkblue', label='Rhythmic')\n",
    "bottom_bar = mpatches.Patch(color='lightblue', label='Arrhythmic')\n",
    "ax.set_ylabel('Taxonomic Level', fontsize = 13)\n",
    "ax.set_xlabel('Percentage Rhythmic', fontsize = 13)\n",
    "plt.legend(handles=[top_bar, bottom_bar], facecolor = 'white', loc = (0.85,-0.35), edgecolor = 'white')\n",
    "plt.setp(j.get_legend().get_texts(), fontsize='11')\n",
    "#plt.savefig('/mnt/zarrinpar/Pynchon/Notebooks/arrhythmia/agp/results_20220418/Figures/Final Figures/figure1/tax_barplot.svg', format = 'svg')"
   ]
  },
  {
   "cell_type": "code",
   "execution_count": null,
   "metadata": {},
   "outputs": [],
   "source": []
  }
 ],
 "metadata": {
  "kernelspec": {
   "display_name": "mmvec-qiime2-2020.11",
   "language": "python",
   "name": "mmvec-qiime2-2020.11"
  },
  "language_info": {
   "codemirror_mode": {
    "name": "ipython",
    "version": 3
   },
   "file_extension": ".py",
   "mimetype": "text/x-python",
   "name": "python",
   "nbconvert_exporter": "python",
   "pygments_lexer": "ipython3",
   "version": "3.6.12"
  }
 },
 "nbformat": 4,
 "nbformat_minor": 4
}
