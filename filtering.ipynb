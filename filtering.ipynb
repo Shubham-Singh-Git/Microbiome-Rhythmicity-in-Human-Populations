{
 "cells": [
  {
   "cell_type": "code",
   "execution_count": 1,
   "id": "026fef7c-4dbb-44d4-ba85-ba41bd7f9f3f",
   "metadata": {},
   "outputs": [],
   "source": [
    "import pandas as pd\n",
    "import numpy as np\n",
    "from numpy import random\n",
    "random.seed(42)\n",
    "\n",
    "#The following packages are not necessary to run the visible portions of this notebook\n",
    "\n",
    "from collections import Counter, defaultdict\n",
    "import biom\n",
    "import h5py\n",
    "from qiime2 import Artifact\n",
    "from qiime2.plugins.feature_table.methods import rarefy\n",
    "from skbio.stats import subsample_counts"
   ]
  },
  {
   "cell_type": "markdown",
   "id": "9ec05f37-a6d1-4c67-9741-768f8e809b18",
   "metadata": {},
   "source": [
    "# Filtering Metadata"
   ]
  },
  {
   "cell_type": "code",
   "execution_count": 2,
   "id": "cc052a61-8def-449e-983a-218f23f6e577",
   "metadata": {},
   "outputs": [
    {
     "data": {
      "text/plain": [
       "(98665, 2976)"
      ]
     },
     "execution_count": 2,
     "metadata": {},
     "output_type": "execute_result"
    }
   ],
   "source": [
    "ogfile = pd.read_csv('/mnt/zarrinpar/Pynchon/Notebooks/arrhythmia/agp/Metadata/alab4.csv', low_memory = False, sep='\\t')\n",
    "ogfile.shape"
   ]
  },
  {
   "cell_type": "code",
   "execution_count": 3,
   "id": "8acfd7ff-b993-49a2-b39a-126eec19cab5",
   "metadata": {},
   "outputs": [
    {
     "data": {
      "text/plain": [
       "(30075, 2976)"
      ]
     },
     "execution_count": 3,
     "metadata": {},
     "output_type": "execute_result"
    }
   ],
   "source": [
    "#limit samples to those from the AGP study\n",
    "ogfile = ogfile[ogfile.title =='American Gut Project']\n",
    "ogfile.shape"
   ]
  },
  {
   "cell_type": "code",
   "execution_count": 4,
   "id": "ec9ba0e5-107f-4e91-af02-e300bfb182e4",
   "metadata": {},
   "outputs": [
    {
     "data": {
      "text/plain": [
       "(22657, 2976)"
      ]
     },
     "execution_count": 4,
     "metadata": {},
     "output_type": "execute_result"
    }
   ],
   "source": [
    "#Removed all non-stool samples,skin, tongue, etc.\n",
    "ogfile = ogfile[ogfile.body_site == 'UBERON:feces']\n",
    "ogfile.shape"
   ]
  },
  {
   "cell_type": "code",
   "execution_count": 5,
   "id": "f254f2bf-7335-4ec1-b0a9-26006712cc80",
   "metadata": {},
   "outputs": [
    {
     "data": {
      "text/plain": [
       "(22647, 2976)"
      ]
     },
     "execution_count": 5,
     "metadata": {},
     "output_type": "execute_result"
    }
   ],
   "source": [
    "#remove animal samples\n",
    "ogfile = ogfile[ogfile.host_common_name =='human']\n",
    "ogfile.shape"
   ]
  },
  {
   "cell_type": "code",
   "execution_count": 6,
   "id": "e23787f3-a936-42b4-aada-b9a660a9d916",
   "metadata": {},
   "outputs": [],
   "source": [
    "#extract month, day, year from date\n",
    "ogfile['collection_timestamp'] = pd.to_datetime(ogfile['collection_timestamp'], format='mixed')\n",
    "ogfile['hour'] = ogfile['collection_timestamp'].dt.hour\n",
    "ogfile.loc[:, 'month'] = ogfile['collection_timestamp'].dt.month\n",
    "ogfile.loc[:, 'day'] = ogfile['collection_timestamp'].dt.day\n",
    "ogfile.loc[:, 'year'] = ogfile['collection_timestamp'].dt.year\n",
    "ogfile.loc[:, 'day_num'] = ogfile['collection_timestamp'].dt.dayofyear.astype(float)\n",
    "ogfile = ogfile.dropna(subset=['hour'])"
   ]
  },
  {
   "cell_type": "code",
   "execution_count": 7,
   "id": "1bc68d70-0f3f-45e0-8b5c-a9b8ba9a4ce0",
   "metadata": {},
   "outputs": [
    {
     "data": {
      "text/plain": [
       "(22640, 739)"
      ]
     },
     "execution_count": 7,
     "metadata": {},
     "output_type": "execute_result"
    }
   ],
   "source": [
    "#limit samples to AGP study and drop useless columns\n",
    "stool_time_file = ogfile.dropna(axis=1, how='all')\n",
    "stool_time_file.shape"
   ]
  },
  {
   "cell_type": "markdown",
   "id": "904b31f3-9328-4f0e-985f-a99e0a0841e3",
   "metadata": {},
   "source": [
    "## Filter juveniles"
   ]
  },
  {
   "cell_type": "code",
   "execution_count": 8,
   "id": "38acfa20-64dc-4229-8766-a2f75d44c06b",
   "metadata": {},
   "outputs": [],
   "source": [
    "#consolidate age values from these two columns\n",
    "na_mask = stool_time_file['age_corrected'] == 'Na'\n",
    "stool_time_file.loc[na_mask, 'age_corrected'] = stool_time_file.loc[na_mask, 'age_years']"
   ]
  },
  {
   "cell_type": "code",
   "execution_count": 9,
   "id": "ca8f27cd-1841-409d-843d-e7c25c8980a3",
   "metadata": {},
   "outputs": [
    {
     "data": {
      "text/plain": [
       "(21408, 739)"
      ]
     },
     "execution_count": 9,
     "metadata": {},
     "output_type": "execute_result"
    }
   ],
   "source": [
    "#remove hosts under 18\n",
    "age_numeric = pd.to_numeric(stool_time_file['age_corrected'], errors='coerce')\n",
    "adults = stool_time_file[(age_numeric >= 18) | age_numeric.isna()]\n",
    "adults.shape"
   ]
  },
  {
   "cell_type": "markdown",
   "id": "608f3bb5-6162-43cd-8f47-21683092629e",
   "metadata": {},
   "source": [
    "## Reformatting the strings referring to locations"
   ]
  },
  {
   "cell_type": "code",
   "execution_count": 10,
   "id": "99718a74-6a60-4aef-a3dc-285f454020bc",
   "metadata": {},
   "outputs": [],
   "source": [
    "adults.loc[:, 'state'] = adults['state'].astype(str)\n",
    "adults.loc[:, 'geo_loc_name'] = adults['geo_loc_name'].astype(str)\n",
    "adults.loc[:, 'country'] = adults['country'].astype(str)\n",
    "\n",
    "adults.loc[:, 'geo_loc_name'] = adults['geo_loc_name'].str.replace(':Unspecified', '')\n",
    "adults.loc[adults['state'] == 'USA:CO:Boulder', 'state'] = 'Boulder,Co,USA'"
   ]
  },
  {
   "cell_type": "code",
   "execution_count": 11,
   "id": "9f5d95b0-1dbc-452a-a822-17e38a7b070f",
   "metadata": {},
   "outputs": [],
   "source": [
    "mask = adults.apply(lambda row: row['state'] in row['geo_loc_name'], axis=1)\n",
    "adults.loc[mask, 'state'] = adults.loc[mask, 'geo_loc_name']\n",
    "adults.loc[mask, 'geo_loc_name'] = 'Na'\n",
    "\n",
    "mask = adults.apply(lambda row: row['country'] in row['geo_loc_name'], axis=1)\n",
    "adults.loc[mask, 'country'] = adults.loc[mask, 'geo_loc_name']"
   ]
  },
  {
   "cell_type": "code",
   "execution_count": 12,
   "id": "ca3631a1-ae92-4d22-be3e-6ab2d003b6d0",
   "metadata": {},
   "outputs": [],
   "source": [
    "un_colon = [state for state in adults.state.unique() if \":\" in state]\n",
    "\n",
    "for state in un_colon:\n",
    "    mask = adults.state.apply(lambda x: x in state)\n",
    "    adults.loc[mask, 'state'] = state"
   ]
  },
  {
   "cell_type": "code",
   "execution_count": 13,
   "id": "6be6d30c-4dbe-4547-a91b-f55cc511f4ac",
   "metadata": {},
   "outputs": [],
   "source": [
    "replacements = {\n",
    "    'nan': 'Na',\n",
    "    'WV': 'USA:WV',\n",
    "    'Oberosterreich': 'Austria:Oberosterreich',\n",
    "    'Vorarlberg': 'Austria:Vorarlberg',\n",
    "    'MB': 'Canada:MB',\n",
    "    'YT': 'Canada:YT',\n",
    "    'Jiangsu': 'China:Jiangsu',\n",
    "    'Auvergne Rhone-Alpes': 'France:Auvergne Rhone-Alpes',\n",
    "    'RA': 'France:RA',\n",
    "    'Upper Normandy': 'France:Upper Normandy',\n",
    "    'Thuringia': 'Germany:Thuringia',\n",
    "    'Emilia-Romagna': 'Italy:Emilia-Romagna',\n",
    "    'Lazio': 'Italy:Lazio',\n",
    "    'Lombardy': 'Italy:Lombardy',\n",
    "    'Tuscany': 'Italy:Tuscany',\n",
    "    \"Hawke's Bay\": \"New Zealand:Hawke's Bay\",\n",
    "    'Otago': 'Norway:Otago',\n",
    "    'Tirol': 'Austria:Tyrol',\n",
    "    'Community of Madrid': 'Spain:Community of Madrid',\n",
    "    'mazowieckie': 'Poland:mazowieckie',\n",
    "    'Wellington': 'Norway:Wellington',\n",
    "    'Akershus': 'Norway:Akershus',\n",
    "    'Valencian Community': 'Spain:Valencian Community',\n",
    "    'Skane lan': 'Sweden:Skane lan',\n",
    "    'Uppsala lan': 'Sweden:Uppsala lan',\n",
    "    'Vastra Gotaland County': 'Sweden:Vastra Gotaland County',\n",
    "    'Aktiengesellschaft': 'Switzerland:Aktiengesellschaft',\n",
    "    'USA:Arizona': 'USA:AZ'\n",
    "}\n",
    "\n",
    "adults.loc[:, 'state'] = adults['state'].replace(replacements)"
   ]
  },
  {
   "cell_type": "code",
   "execution_count": 14,
   "id": "8d8caa45-902c-465c-bbf8-838c35b06afc",
   "metadata": {},
   "outputs": [
    {
     "name": "stderr",
     "output_type": "stream",
     "text": [
      "/tmp/ipykernel_90760/2196077375.py:3: SettingWithCopyWarning: \n",
      "A value is trying to be set on a copy of a slice from a DataFrame.\n",
      "Try using .loc[row_indexer,col_indexer] = value instead\n",
      "\n",
      "See the caveats in the documentation: https://pandas.pydata.org/pandas-docs/stable/user_guide/indexing.html#returning-a-view-versus-a-copy\n",
      "  adults.loc[:, 'coordinate'] = adults['latitude'] + ',' + adults['longitude']\n"
     ]
    }
   ],
   "source": [
    "adults.loc[:, 'latitude'] = adults.loc[:, 'latitude'].astype(str)\n",
    "adults.loc[:, 'longitude'] = adults.loc[:, 'longitude'].astype(str)\n",
    "adults.loc[:, 'coordinate'] = adults['latitude'] + ',' + adults['longitude']\n",
    "adults.loc[:, 'city'] = adults['coordinate']"
   ]
  },
  {
   "cell_type": "raw",
   "id": "25c7c94e-c35f-45a5-b595-98dcabb140b4",
   "metadata": {},
   "source": [
    "The most frequently occuring coordinates determined which cities coordinates were mapped to.\n",
    "This was done using google maps and kinda subjectively but its good enough and we decided against doing a city-level analysis anyways"
   ]
  },
  {
   "cell_type": "code",
   "execution_count": 15,
   "id": "c3a57863-4cd2-4252-b8d0-9b10736e2b6d",
   "metadata": {},
   "outputs": [],
   "source": [
    "city_mapping = {\n",
    "    '30.4,-97.8': 'North Austin',\n",
    "    '32.7,-117': 'San Diego',\n",
    "    '32.8,-117': 'San Diego',\n",
    "    '32.9,-117': 'San Diego',\n",
    "    '32.7,-117.0': 'San Diego',\n",
    "    '32.7,-117.1': 'San Diego',\n",
    "    '32.7,-117.2': 'San Diego',\n",
    "    '32.7,-117.3': 'San Diego',\n",
    "    '32.8,-117.0': 'San Diego',\n",
    "    '32.8,-117.1': 'San Diego',\n",
    "    '32.8,-117.3': 'San Diego',\n",
    "    '32.8,-117.2': 'San Diego',\n",
    "    '32.9,-117.0': 'San Diego',\n",
    "    '32.9,-117.1': 'San Diego',\n",
    "    '32.9,-117.3': 'San Diego',\n",
    "    '32.9,-117.2': 'San Diego',\n",
    "    '33.0,-117.1': 'San Diego',\n",
    "    '33.0,-117.3': 'San Diego',\n",
    "    '33.0,-117.2': 'San Diego',\n",
    "    '33,-117.2': 'San Diego',\n",
    "    '33,-117.1': 'San Diego',\n",
    "    '33,-117.3': 'San Diego',\n",
    "    '34.75,-77.43': 'Jacksonville',\n",
    "    '34.6,-77.3': 'Jacksonville',\n",
    "    '34.718,-77.3': 'Jacksonville',\n",
    "    '34.718,-77.4': 'Jacksonville',\n",
    "    '34.718,-77.5': 'Jacksonville',\n",
    "    '34.7,-77.3': 'Jacksonville',\n",
    "    '34.7,-77.4': 'Jacksonville',\n",
    "    '34.7,-77.5': 'Jacksonville',\n",
    "    '34.75,-77.3': 'Jacksonville',\n",
    "    '34.75,-77.4': 'Jacksonville',\n",
    "    '34.75,-77.5': 'Jacksonville',\n",
    "    '34.8,-77.3': 'Jacksonville',\n",
    "    '34.8,-77.4': 'Jacksonville',\n",
    "    '34.8,-77.5': 'Jacksonville',\n",
    "    '37.8,-122.4': 'San Francisco',\n",
    "    '37.9,-122.3': 'San Francisco',\n",
    "    '37.4,-122.1': 'San Jose',\n",
    "    '40.7,-74.0': 'New York City',\n",
    "    '40.8,-74.0': 'New York City',\n",
    "    '40.0,-105.2': 'Boulder',\n",
    "    '40.027435,-105.251945': 'Boulder',\n",
    "    '40.0,-105.3': 'Boulder',\n",
    "    '40,-105.2': 'Boulder',\n",
    "    '40,-105.3': 'Boulder',\n",
    "    '41,-105.3': 'Boulder',\n",
    "    '41,-105.2': 'Boulder',\n",
    "    '42.3,-71.1': 'Boston',\n",
    "    '42.4,-71.1': 'Boston',\n",
    "    '51.5,-0.1': 'London',\n",
    "    '51.6,-0.1': 'London',\n",
    "    '51.5,-0.2': 'London',\n",
    "    '51.3,-0.3': 'London',\n",
    "    '51.4,-0.3': 'London',\n",
    "    '51.5,-0.3': 'London',\n",
    "    '51.6,-0.3': 'London',\n",
    "    '51.7,-0.3': 'London',\n",
    "    '51.3,-0.2': 'London',\n",
    "    '51.4,-0.2': 'London',\n",
    "    '51.5,-0.2': 'London',\n",
    "    '51.6,-0.2': 'London',\n",
    "    '51.7,-0.2': 'London',\n",
    "    '51.3,-0.1': 'London',\n",
    "    '51.4,-0.1': 'London',\n",
    "    '51.5,-0.1': 'London',\n",
    "    '51.6,-0.1': 'London',\n",
    "    '51.7,-0.1': 'London',\n",
    "    '51.3,0.0': 'London',\n",
    "    '51.4,0.0': 'London',\n",
    "    '51.5,0.0': 'London',\n",
    "    '51.6,0.0': 'London',\n",
    "    '51.7,0.0': 'London',\n",
    "    '51.3,0': 'London',\n",
    "    '51.4,0': 'London',\n",
    "    '51.5,0': 'London',\n",
    "    '51.6,0': 'London',\n",
    "    '51.7,0': 'London',\n",
    "    '51.3,0.1': 'London',\n",
    "    '51.4,0.1': 'London',\n",
    "    '51.5,0.1': 'London',\n",
    "    '51.6,0.1': 'London',\n",
    "    '51.7,0.1': 'London',\n",
    "    '51.3,0.2': 'London',\n",
    "    '51.4,0.2': 'London',\n",
    "    '51.5,0.2': 'London',\n",
    "    '51.6,0.2': 'London',\n",
    "    '51.7,0.2': 'London',\n",
    "    '40.5,-73.7': 'New York City',\n",
    "    '40.5,-73.8': 'New York City',\n",
    "    '40.5,-73.9': 'New York City',\n",
    "    '40.5,-74.0': 'New York City',\n",
    "    '40.5,-74': 'New York City',\n",
    "    '40.5,-74.1': 'New York City',\n",
    "    '40.5,-74.2': 'New York City',\n",
    "    '40.6,-73.7': 'New York City',\n",
    "    '40.6,-73.8': 'New York City',\n",
    "    '40.6,-73.9': 'New York City',\n",
    "    '40.6,-74.0': 'New York City',\n",
    "    '40.6,-74': 'New York City',\n",
    "    '40.6,-74.1': 'New York City',\n",
    "    '40.6,-74.2': 'New York City',\n",
    "    '40.7,-73.7': 'New York City',\n",
    "    '40.7,-73.8': 'New York City',\n",
    "    '40.7,-73.9': 'New York City',\n",
    "    '40.7,-74.0': 'New York City',\n",
    "    '40.7,-74': 'New York City',\n",
    "    '40.8,-73.7': 'New York City',\n",
    "    '40.8,-73.8': 'New York City',\n",
    "    '40.8,-73.9': 'New York City',\n",
    "    '40.8,-74.0': 'New York City',\n",
    "    '40.8,-74': 'New York City',\n",
    "    '40.9,-73.7': 'New York City',\n",
    "    '40.9,-73.8': 'New York City',\n",
    "    '40.9,-73.9': 'New York City',\n",
    "    '40.9,-74.0': 'New York City',\n",
    "    '40.9,-74': 'New York City',\n",
    "    '42.2,-71.1': 'Boston',\n",
    "    '42.2,-71.2': 'Boston',\n",
    "    '42.3,-71': 'Boston',\n",
    "    '42.3,-71.0': 'Boston',\n",
    "    '42.3,-71.2': 'Boston',\n",
    "    '42.4,-71': 'Boston',\n",
    "    '42.4,-71.0': 'Boston',\n",
    "    '42.4,-71.1': 'Boston',\n",
    "    '42.4,-71.2': 'Boston'\n",
    "}\n",
    "\n",
    "adults.loc[:, 'city'] = adults.city.replace(city_mapping, regex=True)\n",
    "adults.loc[adults.loc[:, 'state'] == 'Boulder,Co,USA', 'city'] = 'Boulder'"
   ]
  },
  {
   "cell_type": "markdown",
   "id": "53b68361-c359-4d5a-8dcb-4afc224911e4",
   "metadata": {},
   "source": [
    "## Cleaning by BMI"
   ]
  },
  {
   "cell_type": "code",
   "execution_count": 17,
   "id": "60f5c78a-a246-42a6-b1f9-2560cd888b20",
   "metadata": {},
   "outputs": [],
   "source": [
    "clean_geo = adults "
   ]
  },
  {
   "cell_type": "code",
   "execution_count": 18,
   "id": "b6be6248-5671-440b-9cac-c347af23f8d9",
   "metadata": {},
   "outputs": [],
   "source": [
    "# Consolidating categorical labels\n",
    "values_to_replace = ['nan', 'None', 'Not provided', 'Missing: Not provided', 'unspecified', 'Unspecified', 'LabControl test', 'Not sure']\n",
    "clean_geo = clean_geo.replace(values_to_replace, 'Na')\n",
    "clean_geo = clean_geo.replace(['false','true'],['False','True'])"
   ]
  },
  {
   "cell_type": "code",
   "execution_count": 19,
   "id": "e1b09535-be1e-4986-a6cf-11f66ae3dfb2",
   "metadata": {},
   "outputs": [],
   "source": [
    "#create bmi categories\n",
    "bins = [-float('inf'), 13, 18.5, 25, 30, 90, float('inf')]\n",
    "labels = ['Na', 'Underweight', 'Normal', 'Overweight', 'Obese', 'Na']\n",
    "clean_geo.loc[:, 'bmi'] = pd.to_numeric(clean_geo['bmi'], errors='coerce')\n",
    "clean_geo.loc[:, 'bmi_cat_comb'] = pd.cut(clean_geo.loc[:, 'bmi'].astype(float), bins=bins, labels=labels, right=False, ordered = False)"
   ]
  },
  {
   "cell_type": "markdown",
   "id": "2975377a-adff-4420-b45d-656d8607b2a8",
   "metadata": {},
   "source": [
    "## Cleaning by Date"
   ]
  },
  {
   "cell_type": "code",
   "execution_count": 21,
   "id": "f1a4d4fc-c472-4832-8559-2f7c97add689",
   "metadata": {},
   "outputs": [],
   "source": [
    "#create season column\n",
    "bins = [0, 80, 172, 264, 355,366]  \n",
    "labels = ['Winter', 'Spring', 'Summer', 'Fall', 'Winter']\n",
    "\n",
    "clean_geo.loc[:, 'season'] = pd.cut(clean_geo['day_num'], bins=bins, labels=labels, right=True, ordered = False)"
   ]
  },
  {
   "cell_type": "code",
   "execution_count": 22,
   "id": "d9735992-a1ad-414f-a995-3b8cb4a01c72",
   "metadata": {},
   "outputs": [],
   "source": [
    "#flip season for southern hemisphere countries\n",
    "countries = ['Australia', 'Zimbabwe', 'New Zealand', 'Brazil', 'Paraguay', 'Argentina', 'Peru']\n",
    "season_mapping = {'Summer': 'Winter', 'Winter': 'Summer', 'Fall': 'Spring', 'Spring': 'Fall'}\n",
    "clean_geo.loc[clean_geo['country'].isin(countries), 'season'] = clean_geo.loc[clean_geo['country'].isin(countries), 'season'].replace(season_mapping)"
   ]
  },
  {
   "cell_type": "code",
   "execution_count": 24,
   "id": "3d95a48b-49de-4dc3-92af-8893bdc43025",
   "metadata": {},
   "outputs": [],
   "source": [
    "#binning times\n",
    "time_mapping = {\n",
    "    '0.0': '1', '1.0': '1', '2.0': '3', '3.0': '3', '4.0': '5', '5.0': '5',\n",
    "    '6.0': '7', '7.0': '7', '8.0': '9', '9.0': '9', '10.0': '11', '11.0': '11',\n",
    "    '12.0': '13', '13.0': '13', '14.0': '15', '15.0': '15', '16.0': '17', '17.0': '17',\n",
    "    '18.0': '19', '19.0': '19', '20.0': '21', '21.0': '21', '22.0': '23', '23.0': '23'\n",
    "}\n",
    "\n",
    "# Apply the mapping directly using replace\n",
    "clean_geo.loc[:, 'hour'] = clean_geo['hour'].astype(str)\n",
    "clean_geo.loc[:, 'col_bin'] = clean_geo['hour'].replace(time_mapping)"
   ]
  },
  {
   "cell_type": "markdown",
   "id": "e7e0def8-a77b-4e0a-90b9-ca87b572a075",
   "metadata": {},
   "source": [
    "## Limit 1 sample per host"
   ]
  },
  {
   "cell_type": "code",
   "execution_count": 25,
   "id": "2899ac4b-5324-4ae2-904a-5bbc278345f8",
   "metadata": {},
   "outputs": [
    {
     "data": {
      "text/plain": [
       "(21408, 743)"
      ]
     },
     "execution_count": 25,
     "metadata": {},
     "output_type": "execute_result"
    }
   ],
   "source": [
    "fully_cleaned = clean_geo\n",
    "fully_cleaned.shape"
   ]
  },
  {
   "cell_type": "code",
   "execution_count": 26,
   "id": "e41d4442-3e04-4559-958d-1dd247b14345",
   "metadata": {},
   "outputs": [],
   "source": [
    "n = 1\n",
    "sampled_df = (\n",
    "    fully_cleaned.groupby('host_subject_id')\n",
    "    .apply(lambda x: x.sample(min(len(x), n)))\n",
    "    .reset_index(drop=True)\n",
    ")\n",
    "eversamp = sampled_df.set_index('sample_id')"
   ]
  },
  {
   "cell_type": "code",
   "execution_count": 27,
   "id": "172edf72-8f79-4d5f-9d0a-bd8a1eb53965",
   "metadata": {},
   "outputs": [
    {
     "data": {
      "text/plain": [
       "(18028, 742)"
      ]
     },
     "execution_count": 27,
     "metadata": {},
     "output_type": "execute_result"
    }
   ],
   "source": [
    "eversamp.shape"
   ]
  }
 ],
 "metadata": {
  "kernelspec": {
   "display_name": "qiime2-2023.7",
   "language": "python",
   "name": "qiime2-2023.7"
  },
  "language_info": {
   "codemirror_mode": {
    "name": "ipython",
    "version": 3
   },
   "file_extension": ".py",
   "mimetype": "text/x-python",
   "name": "python",
   "nbconvert_exporter": "python",
   "pygments_lexer": "ipython3",
   "version": "3.8.15"
  }
 },
 "nbformat": 4,
 "nbformat_minor": 5
}
