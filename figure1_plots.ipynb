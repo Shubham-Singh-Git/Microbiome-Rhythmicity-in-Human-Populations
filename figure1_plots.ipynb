{
 "cells": [
  {
   "cell_type": "code",
   "execution_count": 2,
   "metadata": {},
   "outputs": [],
   "source": [
    "from CosinorPy import file_parser, cosinor, cosinor1\n",
    "import numpy as np\n",
    "import pandas as pd\n",
    "import seaborn as sns\n",
    "import matplotlib.pyplot as plt\n",
    "import scipy\n",
    "import matplotlib.patches as mpl_patches"
   ]
  },
  {
   "cell_type": "code",
   "execution_count": 3,
   "metadata": {},
   "outputs": [],
   "source": [
    "plt.rcParams['font.family'] = 'sans-serif'\n",
    "plt.rcParams['font.sans-serif'] = ['Arial', 'DejaVu Sans']\n",
    "plt.rcParams['svg.fonttype'] = 'none'\n",
    "sns.set(style='whitegrid')"
   ]
  },
  {
   "cell_type": "code",
   "execution_count": 5,
   "metadata": {},
   "outputs": [],
   "source": [
    "metadata = pd.read_csv('/home/shs008/zarrinpar/Pynchon/Notebooks/arrhythmia/agp/new_filtering2/metadata_all_col.csv', low_memory = False, index_col = \"sample_id\")\n",
    "phylum = pd.read_csv('/home/shs008/zarrinpar/Pynchon/Notebooks/arrhythmia/agp/new_filtering2/phylum.csv', index_col = 'Unnamed: 0', low_memory = False)\n",
    "family = pd.read_csv('/home/shs008/zarrinpar/Pynchon/Notebooks/arrhythmia/agp/new_filtering2/family.csv', index_col = 'Unnamed: 0', low_memory = False)\n",
    "asv = pd.read_csv('/home/shs008/zarrinpar/Pynchon/Notebooks/arrhythmia/agp/new_filtering2/asv.csv', index_col = 'Unnamed: 0', low_memory = False)\n",
    "counts = pd.read_csv('/home/shs008/zarrinpar/Pynchon/Notebooks/arrhythmia/agp/new_filtering2/counts.csv', index_col = 'Unnamed: 0', low_memory = False)"
   ]
  },
  {
   "cell_type": "markdown",
   "metadata": {},
   "source": [
    "## Sample Distributions"
   ]
  },
  {
   "cell_type": "code",
   "execution_count": 8,
   "metadata": {},
   "outputs": [],
   "source": [
    "mycounts = metadata.groupby(by='col_bin').agg('count').astype(int).reset_index()\n",
    "mycounts2 = metadata.groupby(by='month').agg('count').astype(int).reset_index()"
   ]
  },
  {
   "cell_type": "code",
   "execution_count": 12,
   "metadata": {},
   "outputs": [
    {
     "data": {
      "text/plain": [
       "[Text(0, 0, '0-2am'),\n",
       " Text(0, 0, '2-4am'),\n",
       " Text(0, 0, '4-6am'),\n",
       " Text(0, 0, '6-8am'),\n",
       " Text(0, 0, '8-10am'),\n",
       " Text(0, 0, '10-noon'),\n",
       " Text(0, 0, '12-2pm'),\n",
       " Text(0, 0, '2-4pm'),\n",
       " Text(0, 0, '4-6pm'),\n",
       " Text(0, 0, '6-8pm'),\n",
       " Text(0, 0, '8-10pm'),\n",
       " Text(0, 0, '10-MN')]"
      ]
     },
     "execution_count": 12,
     "metadata": {},
     "output_type": "execute_result"
    },
    {
     "data": {
      "image/png": "[encoded data removed]",
      "text/plain": [
       "<Figure size 108x360 with 1 Axes>"
      ]
     },
     "metadata": {},
     "output_type": "display_data"
    }
   ],
   "source": [
    "fig, ax = plt.subplots(figsize = (1.5,5))\n",
    "ax  = sns.barplot(x = mycounts['index'], y = mycounts.col_bin.astype(str), color = sns.color_palette(\"tab10\")[7])\n",
    "plt.ylabel('Time(h)')\n",
    "plt.xlabel('Samples')\n",
    "plt.tick_params(left=False, bottom=False)\n",
    "#plt.tight_layout()\n",
    "xticks = [0,2000,4000,6000]\n",
    "ax.set_xticks(xticks)\n",
    "ax.set_yticklabels(['0-2am','2-4am','4-6am', '6-8am','8-10am','10-noon','12-2pm','2-4pm','4-6pm','6-8pm','8-10pm','10-MN'])\n",
    "#plt.savefig('/home/shs008/zarrinpar/Pynchon/Notebooks/arrhythmia/agp/new_filtering2/figures/fig1bp1.csv', format = 'svg')"
   ]
  },
  {
   "cell_type": "code",
   "execution_count": 13,
   "metadata": {},
   "outputs": [
    {
     "data": {
      "image/png": "[encoded data removed]",
      "text/plain": [
       "<Figure size 144x360 with 1 Axes>"
      ]
     },
     "metadata": {},
     "output_type": "display_data"
    }
   ],
   "source": [
    "fig, ax = plt.subplots(figsize = (2,5))\n",
    "ax = sns.barplot(x = mycounts2['index'], y = mycounts2.month.astype(str),color = sns.color_palette(\"tab10\")[7])\n",
    "plt.ylabel('Month')\n",
    "plt.xlabel('Samples')\n",
    "plt.tick_params(left=False, bottom=False)\n",
    "ax.set_yticklabels(['Jan','Feb','Mar', 'Apr','May','Jun','Jul','Aug','Sep','Oct','Nov','Dec'])\n",
    "xticks2 = [0,1000,2000]\n",
    "ax.set_xticks(xticks2)\n",
    "plt.tight_layout()\n",
    "#plt.savefig('/home/shs008/zarrinpar/Pynchon/Notebooks/arrhythmia/agp/new_filtering2/figures/fig1bp1.csv', format = 'svg')"
   ]
  },
  {
   "cell_type": "markdown",
   "metadata": {},
   "source": [
    "## Heatmap of Rhythmic ASVs"
   ]
  },
  {
   "cell_type": "code",
   "execution_count": 20,
   "metadata": {},
   "outputs": [],
   "source": [
    "#Selecting rhythmic asvs\n",
    "results = pd.read_csv('/home/shs008/zarrinpar/Pynchon/Notebooks/arrhythmia/agp/new_filtering2/results/asv.csv', index_col = 'test')\n",
    "results = results[results.q<0.05]"
   ]
  },
  {
   "cell_type": "code",
   "execution_count": 22,
   "metadata": {},
   "outputs": [],
   "source": [
    "#filtering and sorting clr table\n",
    "filt_asv = asv.T[asv.columns.isin(results.index)]\n",
    "filt_asv = filt_asv.join(results['acrophase[h]']).sort_values(by=['acrophase[h]']).drop(columns = 'acrophase[h]')"
   ]
  },
  {
   "cell_type": "code",
   "execution_count": null,
   "metadata": {},
   "outputs": [],
   "source": [
    "#create a 4hr bin column\n",
    "metadata.time = metadata.time.astype(str)\n",
    "metadata['col_bin_2'] = metadata['time'].replace(['0.0','1.0','2.0','3.0','4.0','5.0','6.0','7.0','8.0','9.0','10.0','11.0','12.0','13.0','14.0','15.0','16.0','17.0','18.0','19.0','20.0','21.0','22.0','23.0'],['2','2','2','2','6','6','6','6','10','10','10','10','14','14','14','14','18','18','18','18','22','22','22','22'])\n",
    "metadata.col_bin_2 = metadata.col_bin_2.astype(float)"
   ]
  },
  {
   "cell_type": "code",
   "execution_count": 23,
   "metadata": {},
   "outputs": [],
   "source": [
    "#creating pivot table\n",
    "comb = filt_asv.T.join(metadata.col_bin_2)\n",
    "combagg = comb.astype(float).groupby('col_bin_2').agg('mean')"
   ]
  },
  {
   "cell_type": "code",
   "execution_count": 25,
   "metadata": {},
   "outputs": [],
   "source": [
    "#Normalization\n",
    "c = combagg\n",
    "c = c-c.min()\n",
    "c = c/c.max()"
   ]
  },
  {
   "cell_type": "code",
   "execution_count": 26,
   "metadata": {},
   "outputs": [],
   "source": [
    "#Ordering rows of pivot table by acrophase\n",
    "ctt = c.T\n",
    "a = ctt[ctt[2.0]==1]\n",
    "b = ctt[ctt[6.0]==1]\n",
    "c = ctt[ctt[10.0]==1]\n",
    "d = ctt[ctt[14.0]==1]\n",
    "e = ctt[ctt[18.0]==1]\n",
    "f = ctt[ctt[22.0]==1]\n",
    "tot = pd.concat([a,b,c,d,e,f])\n"
   ]
  },
  {
   "cell_type": "code",
   "execution_count": 27,
   "metadata": {},
   "outputs": [
    {
     "data": {
      "text/plain": [
       "[<matplotlib.axis.XTick at 0x7f38f1fd5b70>,\n",
       " <matplotlib.axis.XTick at 0x7f38f1fd5b38>,\n",
       " <matplotlib.axis.XTick at 0x7f38f154f470>,\n",
       " <matplotlib.axis.XTick at 0x7f38f154f940>,\n",
       " <matplotlib.axis.XTick at 0x7f38f154fdd8>,\n",
       " <matplotlib.axis.XTick at 0x7f38f15572e8>,\n",
       " <matplotlib.axis.XTick at 0x7f38f154f400>]"
      ]
     },
     "execution_count": 27,
     "metadata": {},
     "output_type": "execute_result"
    },
    {
     "data": {
      "image/png": "[encoded data removed]",
      "text/plain": [
       "<Figure size 259.2x288 with 2 Axes>"
      ]
     },
     "metadata": {},
     "output_type": "display_data"
    }
   ],
   "source": [
    "sns.set(font_scale=0.7)\n",
    "fig, ax = plt.subplots(1, 1, figsize = (3.6,4))\n",
    "cbar_ax = fig.add_axes([.950, 0.73, .05, .15])\n",
    "g = sns.heatmap(tot, ax = ax, cbar_ax = cbar_ax, cmap = 'viridis',cbar=True, yticklabels = False)\n",
    "g.tick_params(labelsize=10)\n",
    "ax.set_xticklabels(['0:00','4:00','8:00', '12:00','16:00','20:00','24:00'])\n",
    "ax.tick_params(left=False, bottom=False)\n",
    "#plt.xticks(np.arange(7)+0.5,('Mon','Tue','Wed','Thu','Fri','Sat','Sun'),\n",
    "#           rotation=0, fontsize=\"10\", va=\"center\")\n",
    "xticks = np.linspace(0,6,7)\n",
    "#fig.tick_params(labelsize=20)\n",
    "cbar = ax.collections[0].colorbar\n",
    "cbar.set_ticks([0, 0.5,1])\n",
    "cbar.ax.tick_params(size=0)\n",
    "ax.set_xlabel('Time (h)', fontsize = '13')\n",
    "#ax.set_ylabel('Rhythmic ASVs')\n",
    "ax.set_xticks(xticks)\n",
    "#plt.tight_layout()\n",
    "#plt.savefig('/home/shs008/zarrinpar/Pynchon/Notebooks/arrhythmia/agp/results_20220418/Figures/Final Figures/figure1/heatmap.svg', format = 'svg')"
   ]
  },
  {
   "cell_type": "markdown",
   "metadata": {},
   "source": [
    "## Regression Plots"
   ]
  },
  {
   "cell_type": "code",
   "execution_count": 29,
   "metadata": {},
   "outputs": [],
   "source": [
    "joint_phylum2 = phylum.join(metadata.col_bin).dropna()"
   ]
  },
  {
   "cell_type": "code",
   "execution_count": 30,
   "metadata": {},
   "outputs": [],
   "source": [
    "phylum = pd.read_csv('/home/shs008/zarrinpar/Pynchon/Notebooks/arrhythmia/agp/new_filtering2/bloom/phylum.csv', index_col = 'Unnamed: 0', low_memory = False)\n",
    "family = pd.read_csv('/home/shs008/zarrinpar/Pynchon/Notebooks/arrhythmia/agp/new_filtering2/bloom/family.csv', index_col = 'Unnamed: 0', low_memory = False)\n",
    "meta = pd.read_csv('/home/shs008/zarrinpar/Pynchon/Notebooks/arrhythmia/agp/new_filtering2/bloom/metadata_all_col.csv', index_col = 'sample_id', low_memory = False)\n",
    "meta.time = meta.time.astype(str)\n",
    "meta['col_bin'] = meta['time'].replace(['0.0','1.0','2.0','3.0','4.0','5.0','6.0','7.0','8.0','9.0','10.0','11.0','12.0','13.0','14.0','15.0','16.0','17.0','18.0','19.0','20.0','21.0','22.0','23.0'],['1','1','3','3','5','5','7','7','9','9','11','11','13','13','15','15','17','17','19','19','21','21','23','23'])"
   ]
  },
  {
   "cell_type": "code",
   "execution_count": 32,
   "metadata": {},
   "outputs": [],
   "source": [
    "jp1 = phylum.join(metadata.col_bin).dropna()\n",
    "jp2 = phylum.join(meta.col_bin).dropna()\n",
    "\n",
    "jf1 = family.join(metadata.col_bin).dropna()\n",
    "jf2 = family.join(meta.col_bin).dropna()"
   ]
  },
  {
   "cell_type": "code",
   "execution_count": 40,
   "metadata": {},
   "outputs": [],
   "source": [
    "def skeletonbloom(joint_file1, joint_file2, taxa):\n",
    "    sns.set_style(\"whitegrid\", {'axes.grid' : False})\n",
    "    #initializing input for cosinor1 function\n",
    "    joint_file1.col_bin = joint_file1.col_bin.astype(float)\n",
    "    joint_file1[taxa] = joint_file1[taxa].dropna().astype(float)\n",
    "    melted1 = pd.melt(joint_file1, id_vars = 'col_bin')\n",
    "    melted1.rename(columns={'col_bin': 'x','value': 'y','variable': 'test'}, inplace = True)\n",
    "    melted1.x = melted1.x.astype(float)\n",
    "    melted1.y = melted1.y.astype(float)\n",
    "    taxa_of_interest = melted1[melted1.test == taxa]\n",
    "    \n",
    "    #initializing bloom included input for cosinor1 function\n",
    "    joint_file2.col_bin = joint_file2.col_bin.astype(float)\n",
    "    joint_file2 = joint_file2.astype(float)\n",
    "    joint_file2[taxa] = joint_file2[taxa].dropna().astype(float)\n",
    "    melted2 = pd.melt(joint_file2, id_vars = 'col_bin')\n",
    "    melted2.rename(columns={'col_bin': 'x','value': 'y','variable': 'test'}, inplace = True)\n",
    "\n",
    "    #performing regression\n",
    "    info2 = cosinor1.fit_cosinor(X=taxa_of_interest.x, Y=taxa_of_interest.y, period=24, test='test', save_to = 'test', plot_on = True)\n",
    "    cosinor_results2 = cosinor1.fit_group(taxa_of_interest, period=[24], plot_on = False)\n",
    "\n",
    "    info1 = cosinor1.fit_cosinor(X=taxa_of_interest.x, Y=taxa_of_interest.y, period=24, test='test', save_to = 'test', plot_on = True)\n",
    "    cosinor_results1 = cosinor1.fit_group(taxa_of_interest, period=[24], plot_on = False)\n",
    "        \n",
    "    #Plotting\n",
    "    x = np.arange(1,24,1)\n",
    "    z = cosinor_results1.amplitude[0]*np.cos(np.pi/12*x+cosinor_results1.acrophase[0])+info1[3]['values'][0]\n",
    "    z2 = cosinor_results2.amplitude[0]*np.cos(np.pi/12*x+cosinor_results2.acrophase[0])+info2[3]['values'][0]\n",
    "    fig, ax = plt.subplots(figsize=(5,3))\n",
    "    sns.lineplot(data=joint_file1, x=\"col_bin\", y=taxa, alpha = 1, err_style = 'bars', linestyle = '')\n",
    "    scatdat1 = joint_file1[['col_bin', taxa]].groupby('col_bin').agg('mean').reset_index()\n",
    "    e = plt.scatter(scatdat1.col_bin, scatdat1[taxa], label='Data')\n",
    "    ax.set_xlabel('Time (h)')\n",
    "    \n",
    "    sns.lineplot(data=joint_file2, x=\"col_bin\", y=taxa, alpha = 1, err_style = 'bars', linestyle = '')\n",
    "    scatdat2 = joint_file2[['col_bin', taxa]].groupby('col_bin').agg('mean').reset_index()\n",
    "    f = plt.scatter(scatdat2.col_bin, scatdat2[taxa], label='Data')\n",
    "\n",
    "    #making label flexible to family and phylum level inputs\n",
    "    ax.set_ylabel('CLR')\n",
    "    if len(joint_file2.columns)>20:\n",
    "        tax_short = taxa[taxa.find('f__')+3:]\n",
    "        desig = 'Family/'\n",
    "    else:\n",
    "        tax_short = taxa.replace('d__Bacteria;p__','')\n",
    "        desig = 'Phylum/'\n",
    "    scientific_notation=\"{:e}\".format(cosinor_results1.q[0])\n",
    "    pval = 'p* = '+str(scientific_notation)[:4]+str(scientific_notation)[-4:]\n",
    "    ax.set_title(tax_short, fontsize = 13)\n",
    "    \n",
    "    if cosinor_results1.q[0]<0.05:\n",
    "        a, = plt.plot(x,z, color = sns.color_palette()[0], label = pval)\n",
    "    if cosinor_results2.q[0]<0.05:\n",
    "        b, = plt.plot(x,z2, color = sns.color_palette()[1], label = pval)\n",
    "    legend2 = plt.legend([e,f],['Without Blooms', 'With Blooms'], loc = (1.05, 0.5))\n",
    "    handles = [mpl_patches.Rectangle((0, 0), 3, 3, fc=\"white\", ec=\"white\", \n",
    "                                 lw=0, alpha=0)] * 2\n",
    "    labels = []\n",
    "    labels.append(pval)\n",
    "    legend1 = ax.legend(handles, labels, loc=(1.05,0.863), fontsize='medium', \n",
    "          fancybox=True, framealpha=0.7, \n",
    "          handlelength=0, handletextpad=0)\n",
    "    ax.add_artist(legend2)\n",
    "    ax.add_artist(legend1)\n",
    "    plt.tight_layout()\n",
    "    \n",
    "    #plt.savefig('/home/shs008/zarrinpar/Pynchon/Notebooks/arrhythmia/agp/new_filtering2/figures/line_graphs/'+desig+'bloom/'+tax_short+'.svg', bbox_inches = \"tight\", format = 'svg')\n",
    "    return fig, ax, pval"
   ]
  },
  {
   "cell_type": "code",
   "execution_count": null,
   "metadata": {},
   "outputs": [],
   "source": [
    "for i in range(len(family.columns)):\n",
    "    skeletonbloom(jf1,jf2, family.columns[i])"
   ]
  },
  {
   "cell_type": "code",
   "execution_count": 42,
   "metadata": {},
   "outputs": [
    {
     "data": {
      "image/png": "[encoded data removed]",
      "text/plain": [
       "<Figure size 360x216 with 1 Axes>"
      ]
     },
     "metadata": {},
     "output_type": "display_data"
    }
   ],
   "source": [
    "for i in range(len(phylum.columns)):\n",
    "    skeletonbloom(jp1,jp2, phylum.columns[i])"
   ]
  }
 ],
 "metadata": {
  "kernelspec": {
   "display_name": "mmvec-qiime2-2020.11",
   "language": "python",
   "name": "mmvec-qiime2-2020.11"
  },
  "language_info": {
   "codemirror_mode": {
    "name": "ipython",
    "version": 3
   },
   "file_extension": ".py",
   "mimetype": "text/x-python",
   "name": "python",
   "nbconvert_exporter": "python",
   "pygments_lexer": "ipython3",
   "version": "3.6.12"
  }
 },
 "nbformat": 4,
 "nbformat_minor": 4
}
