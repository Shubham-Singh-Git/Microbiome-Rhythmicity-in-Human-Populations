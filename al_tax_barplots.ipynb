{
 "cells": [
  {
   "cell_type": "code",
   "execution_count": 25,
   "metadata": {},
   "outputs": [],
   "source": [
    "from CosinorPy import file_parser, cosinor, cosinor1\n",
    "import numpy as np\n",
    "import pandas as pd\n",
    "import seaborn as sns\n",
    "import matplotlib.pyplot as plt\n",
    "import pylab\n",
    "import scipy\n",
    "import matplotlib.patches as mpatches\n",
    "from venn import venn\n",
    "import statistics as stat\n",
    "from qiime2 import Artifact\n",
    "import matplotlib.patches as mpl_patches\n",
    "%matplotlib inline"
   ]
  },
  {
   "cell_type": "code",
   "execution_count": 26,
   "metadata": {},
   "outputs": [],
   "source": [
    "plt.rcParams['font.family'] = 'sans-serif'\n",
    "plt.rcParams['font.sans-serif'] = ['Arial', 'DejaVu Sans']\n",
    "plt.rcParams['svg.fonttype'] = 'none'\n",
    "sns.set(style='whitegrid')"
   ]
  },
  {
   "cell_type": "code",
   "execution_count": 27,
   "metadata": {},
   "outputs": [],
   "source": [
    "#1. Diurnal no bloom\n",
    "#2. Diurnal bloom\n",
    "#3 Seasonal no bloom\n",
    "#4 Seasonal bloom\n",
    "#5 Seasonal nh no bloom\n",
    "#6 Seasonal nh bloom"
   ]
  },
  {
   "cell_type": "markdown",
   "metadata": {},
   "source": [
    "## Diurnal No bloom"
   ]
  },
  {
   "cell_type": "code",
   "execution_count": 28,
   "metadata": {},
   "outputs": [],
   "source": [
    "phyr = pd.read_csv('/home/shs008/zarrinpar/Pynchon/Notebooks/arrhythmia/agp/new_filtering2/results/phylum.csv', index_col = 'test')\n",
    "classr = pd.read_csv('/home/shs008/zarrinpar/Pynchon/Notebooks/arrhythmia/agp/new_filtering2/results/class.csv', index_col = 'test')\n",
    "orderr = pd.read_csv('/home/shs008/zarrinpar/Pynchon/Notebooks/arrhythmia/agp/new_filtering2/results/order.csv', index_col = 'test')\n",
    "familyr = pd.read_csv('/home/shs008/zarrinpar/Pynchon/Notebooks/arrhythmia/agp/new_filtering2/results/family.csv', index_col = 'test')\n",
    "genusr = pd.read_csv('/home/shs008/zarrinpar/Pynchon/Notebooks/arrhythmia/agp/new_filtering2/results/genus.csv', index_col = 'test')\n",
    "asvr = pd.read_csv('/home/shs008/zarrinpar/Pynchon/Notebooks/arrhythmia/agp/new_filtering2/results/asv.csv', index_col = 'test')"
   ]
  },
  {
   "cell_type": "code",
   "execution_count": 29,
   "metadata": {},
   "outputs": [],
   "source": [
    "phyrr = phyr[phyr.q<0.05]\n",
    "classrr = classr[classr.q<0.05]\n",
    "orderrr = orderr[orderr.q<0.05]\n",
    "familyrr = familyr[familyr.q<0.05]\n",
    "genusrr = genusr[genusr.q<0.05]\n",
    "asvrr = asvr[asvr.q<0.05]"
   ]
  },
  {
   "cell_type": "code",
   "execution_count": 30,
   "metadata": {},
   "outputs": [
    {
     "data": {
      "text/plain": [
       "14"
      ]
     },
     "execution_count": 30,
     "metadata": {},
     "output_type": "execute_result"
    }
   ],
   "source": [
    "len(phyr)"
   ]
  },
  {
   "cell_type": "code",
   "execution_count": 31,
   "metadata": {},
   "outputs": [
    {
     "data": {
      "text/plain": [
       "5"
      ]
     },
     "execution_count": 31,
     "metadata": {},
     "output_type": "execute_result"
    }
   ],
   "source": [
    "len(phyrr)"
   ]
  },
  {
   "cell_type": "code",
   "execution_count": 32,
   "metadata": {},
   "outputs": [],
   "source": [
    "phy = {'Taxa': ['Phylum\\n'+str(len(phyrr))+'/'+str(len(phyr))], 'Count': pd.Series([len(phyrr)/len(phyr)*100])}\n",
    "phybar = pd.DataFrame(data=phy)\n",
    "phy2 = {'Taxa': ['Phylum\\n'+str(len(phyrr))+'/14'+str(len(phyr))], 'Count': pd.Series([100])}\n",
    "phybar2 = pd.DataFrame(data=phy2)"
   ]
  },
  {
   "cell_type": "code",
   "execution_count": 33,
   "metadata": {},
   "outputs": [
    {
     "data": {
      "text/plain": [
       "23"
      ]
     },
     "execution_count": 33,
     "metadata": {},
     "output_type": "execute_result"
    }
   ],
   "source": [
    "len(classr)"
   ]
  },
  {
   "cell_type": "code",
   "execution_count": 34,
   "metadata": {},
   "outputs": [
    {
     "data": {
      "text/plain": [
       "7"
      ]
     },
     "execution_count": 34,
     "metadata": {},
     "output_type": "execute_result"
    }
   ],
   "source": [
    "len(classrr)"
   ]
  },
  {
   "cell_type": "code",
   "execution_count": 35,
   "metadata": {},
   "outputs": [],
   "source": [
    "clas = {'Taxa': ['Class\\n'+str(len(classrr))+'/'+str(len(classr))], 'Count': pd.Series([len(classrr)/len(classr)*100])}\n",
    "clasbar = pd.DataFrame(data=clas)\n",
    "clas2 = {'Taxa': ['Class\\n'+str(len(classrr))+'/'+str(len(classr))], 'Count': pd.Series([100])}\n",
    "clasbar2 = pd.DataFrame(data=clas2)"
   ]
  },
  {
   "cell_type": "code",
   "execution_count": 36,
   "metadata": {},
   "outputs": [
    {
     "data": {
      "text/plain": [
       "59"
      ]
     },
     "execution_count": 36,
     "metadata": {},
     "output_type": "execute_result"
    }
   ],
   "source": [
    "len(orderr)"
   ]
  },
  {
   "cell_type": "code",
   "execution_count": 37,
   "metadata": {},
   "outputs": [
    {
     "data": {
      "text/plain": [
       "25"
      ]
     },
     "execution_count": 37,
     "metadata": {},
     "output_type": "execute_result"
    }
   ],
   "source": [
    "len(orderrr)"
   ]
  },
  {
   "cell_type": "code",
   "execution_count": 38,
   "metadata": {},
   "outputs": [],
   "source": [
    "order = {'Taxa': ['Order\\n'+str(len(orderrr))+'/'+str(len(orderr))], 'Count': pd.Series([len(orderrr)/len(orderr)*100])}\n",
    "orderbar = pd.DataFrame(data=order)\n",
    "order2 = {'Taxa': ['Order\\n'+str(len(orderrr))+'/'+str(len(orderr))], 'Count': pd.Series([100])}\n",
    "orderbar2 = pd.DataFrame(data=order2)"
   ]
  },
  {
   "cell_type": "code",
   "execution_count": 39,
   "metadata": {},
   "outputs": [
    {
     "data": {
      "text/plain": [
       "113"
      ]
     },
     "execution_count": 39,
     "metadata": {},
     "output_type": "execute_result"
    }
   ],
   "source": [
    "len(familyr)"
   ]
  },
  {
   "cell_type": "code",
   "execution_count": 40,
   "metadata": {},
   "outputs": [
    {
     "data": {
      "text/plain": [
       "36"
      ]
     },
     "execution_count": 40,
     "metadata": {},
     "output_type": "execute_result"
    }
   ],
   "source": [
    "len(familyrr)"
   ]
  },
  {
   "cell_type": "code",
   "execution_count": 51,
   "metadata": {},
   "outputs": [],
   "source": [
    "fam = {'Taxa': ['Family\\n'+str(len(familyrr))+'/'+str(len(familyr))], 'Count': pd.Series([len(familyrr)/len(familyr)*100])}\n",
    "fambar = pd.DataFrame(data=fam)\n",
    "fam2 = {'Taxa': ['Family\\n'+str(len(familyrr))+'/'+str(len(familyr))], 'Count': pd.Series([100])}\n",
    "fambar2 = pd.DataFrame(data=fam2)"
   ]
  },
  {
   "cell_type": "code",
   "execution_count": 52,
   "metadata": {},
   "outputs": [
    {
     "data": {
      "text/plain": [
       "314"
      ]
     },
     "execution_count": 52,
     "metadata": {},
     "output_type": "execute_result"
    }
   ],
   "source": [
    "len(genusr)"
   ]
  },
  {
   "cell_type": "code",
   "execution_count": 53,
   "metadata": {},
   "outputs": [
    {
     "data": {
      "text/plain": [
       "97"
      ]
     },
     "execution_count": 53,
     "metadata": {},
     "output_type": "execute_result"
    }
   ],
   "source": [
    "len(genusrr)"
   ]
  },
  {
   "cell_type": "code",
   "execution_count": 54,
   "metadata": {},
   "outputs": [],
   "source": [
    "gen = {'Taxa': ['Genus\\n'+str(len(genusrr))+'/'+str(len(genusr))], 'Count': pd.Series([len(genusrr)/len(genusr)*100])}\n",
    "genbar = pd.DataFrame(data=gen)\n",
    "gen2 = {'Taxa': ['Genus\\n'+str(len(genusrr))+'/'+str(len(genusr))], 'Count': pd.Series([100])}\n",
    "genbar2 = pd.DataFrame(data=gen2)"
   ]
  },
  {
   "cell_type": "code",
   "execution_count": 55,
   "metadata": {},
   "outputs": [
    {
     "data": {
      "text/plain": [
       "224"
      ]
     },
     "execution_count": 55,
     "metadata": {},
     "output_type": "execute_result"
    }
   ],
   "source": [
    "len(asvrr)"
   ]
  },
  {
   "cell_type": "code",
   "execution_count": 56,
   "metadata": {},
   "outputs": [
    {
     "data": {
      "text/plain": [
       "1658"
      ]
     },
     "execution_count": 56,
     "metadata": {},
     "output_type": "execute_result"
    }
   ],
   "source": [
    "len(asvr)"
   ]
  },
  {
   "cell_type": "code",
   "execution_count": 57,
   "metadata": {},
   "outputs": [],
   "source": [
    "asv = {'Taxa': ['ASV\\n'+str(len(asvrr))+'/'+str(len(asvr))], 'Count': pd.Series([len(asvrr)/len(asvr)*100])}\n",
    "asvbar = pd.DataFrame(data=asv)\n",
    "asv2 = {'Taxa': ['ASV\\n'+str(len(asvrr))+'/'+str(len(asvr))], 'Count': pd.Series([100])}\n",
    "asvbar2 = pd.DataFrame(data=asv2)"
   ]
  },
  {
   "cell_type": "code",
   "execution_count": 58,
   "metadata": {},
   "outputs": [],
   "source": [
    "ghost = pd.concat([phybar,clasbar,orderbar,fambar,genbar,asvbar])\n",
    "ghost1 = pd.concat([phybar2,clasbar2,orderbar2,fambar2,genbar2,asvbar2])"
   ]
  },
  {
   "cell_type": "code",
   "execution_count": 59,
   "metadata": {},
   "outputs": [],
   "source": [
    "ghost1 = ghost1.rename(columns = {'Count':\"Percentage Rhythmic\", \"Taxa\":'Taxonomic Level'})\n",
    "ghost = ghost.rename(columns = {'Count':\"Percentage Rhythmic\",'Taxa': 'Taxonomic Level'})"
   ]
  },
  {
   "cell_type": "code",
   "execution_count": 60,
   "metadata": {},
   "outputs": [
    {
     "data": {
      "image/png": "[encoded data removed]",
      "text/plain": [
       "<Figure size 158.4x288 with 1 Axes>"
      ]
     },
     "metadata": {},
     "output_type": "display_data"
    }
   ],
   "source": [
    "fig, ax = plt.subplots(figsize = (2.2, 4))\n",
    "sns.set(style=\"white\")\n",
    "sns.despine(bottom = True, left = True)\n",
    "jk = sns.barplot(y = ghost1['Taxonomic Level'],x = ghost1['Percentage Rhythmic'], color = 'lightblue')\n",
    "j = sns.barplot(y = ghost['Taxonomic Level'],x = ghost['Percentage Rhythmic'], color = 'darkblue')\n",
    "#asvplot111 = sns.barplot(x = asvbar['ASV'],y = asvbar[''], color = 'darkblue')\n",
    "#asvplot111.set(xlabel = None)\n",
    "#asvplot211.set(xlabel = None)\n",
    "top_bar = mpatches.Patch(color='darkblue', label='Rhythmic')\n",
    "bottom_bar = mpatches.Patch(color='lightblue', label='Arrhythmic')\n",
    "ax.set_ylabel('Taxonomic Level', fontsize = 13)\n",
    "ax.set_xlabel('Percentage Rhythmic', fontsize = 13)\n",
    "#plt.text(color = 'white', x = 0, y = 2.5,s = '8/15',fontsize = 'medium')\n",
    "plt.legend(handles=[top_bar, bottom_bar], facecolor = 'white', loc = (0.85,-0.35), edgecolor = 'white')\n",
    "plt.setp(j.get_legend().get_texts(), fontsize='11')\n",
    "#plt.legend(facecolor='white', framealpha=1)\n",
    "plt.savefig('/home/shs008/zarrinpar/Pynchon/Notebooks/arrhythmia/agp/results_20220418/Figures/Final Figures/figure1/tax_barplot.svg', format = 'svg')"
   ]
  },
  {
   "cell_type": "markdown",
   "metadata": {},
   "source": [
    "## Diurnal With bloom"
   ]
  },
  {
   "cell_type": "code",
   "execution_count": null,
   "metadata": {},
   "outputs": [],
   "source": []
  },
  {
   "cell_type": "code",
   "execution_count": 27,
   "metadata": {},
   "outputs": [],
   "source": [
    "phyr = pd.read_csv('/home/shs008/zarrinpar/Pynchon/Notebooks/arrhythmia/agp/results_20220418/Cosinor_results/Whole Data/2023/diurnal/bloom/phylum.csv', index_col = 'test')\n",
    "classr = pd.read_csv('/home/shs008/zarrinpar/Pynchon/Notebooks/arrhythmia/agp/results_20220418/Cosinor_results/Whole Data/2023/diurnal/bloom/class.csv', index_col = 'test')\n",
    "orderr = pd.read_csv('/home/shs008/zarrinpar/Pynchon/Notebooks/arrhythmia/agp/results_20220418/Cosinor_results/Whole Data/2023/diurnal/bloom/order.csv', index_col = 'test')\n",
    "familyr = pd.read_csv('/home/shs008/zarrinpar/Pynchon/Notebooks/arrhythmia/agp/results_20220418/Cosinor_results/Whole Data/2023/diurnal/bloom/family.csv', index_col = 'test')\n",
    "genusr = pd.read_csv('/home/shs008/zarrinpar/Pynchon/Notebooks/arrhythmia/agp/results_20220418/Cosinor_results/Whole Data/2023/diurnal/bloom/genus.csv', index_col = 'test')\n",
    "asvr = pd.read_csv('/home/shs008/zarrinpar/Pynchon/Notebooks/arrhythmia/agp/results_20220418/Cosinor_results/Whole Data/2023/diurnal/bloom/asv.csv', index_col = 'test')"
   ]
  },
  {
   "cell_type": "code",
   "execution_count": 28,
   "metadata": {},
   "outputs": [],
   "source": [
    "phyrr = phyr[phyr.q<0.05]\n",
    "classrr = classr[classr.q<0.05]\n",
    "orderrr = orderr[orderr.q<0.05]\n",
    "familyrr = familyr[familyr.q<0.05]\n",
    "genusrr = genusr[genusr.q<0.05]\n",
    "asvrr = asvr[asvr.q<0.05]"
   ]
  },
  {
   "cell_type": "code",
   "execution_count": 29,
   "metadata": {},
   "outputs": [
    {
     "data": {
      "text/plain": [
       "14"
      ]
     },
     "execution_count": 29,
     "metadata": {},
     "output_type": "execute_result"
    }
   ],
   "source": [
    "len(phyr)"
   ]
  },
  {
   "cell_type": "code",
   "execution_count": 30,
   "metadata": {},
   "outputs": [
    {
     "data": {
      "text/plain": [
       "12"
      ]
     },
     "execution_count": 30,
     "metadata": {},
     "output_type": "execute_result"
    }
   ],
   "source": [
    "len(phyrr)"
   ]
  },
  {
   "cell_type": "code",
   "execution_count": 31,
   "metadata": {},
   "outputs": [],
   "source": [
    "phy = {'Taxa': ['Phylum\\n'+str(len(phyrr))+'/14'], 'Count': pd.Series([len(phyrr)/len(phyr)*100])}\n",
    "phybar = pd.DataFrame(data=phy)\n",
    "phy2 = {'Taxa': ['Phylum\\n'+str(len(phyrr))+'/14'], 'Count': pd.Series([100])}\n",
    "phybar2 = pd.DataFrame(data=phy2)"
   ]
  },
  {
   "cell_type": "code",
   "execution_count": 32,
   "metadata": {},
   "outputs": [
    {
     "data": {
      "text/plain": [
       "23"
      ]
     },
     "execution_count": 32,
     "metadata": {},
     "output_type": "execute_result"
    }
   ],
   "source": [
    "len(classr)"
   ]
  },
  {
   "cell_type": "code",
   "execution_count": 33,
   "metadata": {},
   "outputs": [
    {
     "data": {
      "text/plain": [
       "17"
      ]
     },
     "execution_count": 33,
     "metadata": {},
     "output_type": "execute_result"
    }
   ],
   "source": [
    "len(classrr)"
   ]
  },
  {
   "cell_type": "code",
   "execution_count": 34,
   "metadata": {},
   "outputs": [],
   "source": [
    "clas = {'Taxa': ['Class\\n'+str(len(classrr))+'/23'], 'Count': pd.Series([len(classrr)/len(classr)*100])}\n",
    "clasbar = pd.DataFrame(data=clas)\n",
    "clas2 = {'Taxa': ['Class\\n'+str(len(classrr))+'/23'], 'Count': pd.Series([100])}\n",
    "clasbar2 = pd.DataFrame(data=clas2)"
   ]
  },
  {
   "cell_type": "code",
   "execution_count": 35,
   "metadata": {},
   "outputs": [
    {
     "data": {
      "text/plain": [
       "59"
      ]
     },
     "execution_count": 35,
     "metadata": {},
     "output_type": "execute_result"
    }
   ],
   "source": [
    "len(orderr)"
   ]
  },
  {
   "cell_type": "code",
   "execution_count": 36,
   "metadata": {},
   "outputs": [
    {
     "data": {
      "text/plain": [
       "29"
      ]
     },
     "execution_count": 36,
     "metadata": {},
     "output_type": "execute_result"
    }
   ],
   "source": [
    "len(orderrr)"
   ]
  },
  {
   "cell_type": "code",
   "execution_count": 37,
   "metadata": {},
   "outputs": [],
   "source": [
    "order = {'Taxa': ['Order\\n'+str(len(orderrr))+'/59'], 'Count': pd.Series([len(orderrr)/len(orderr)*100])}\n",
    "orderbar = pd.DataFrame(data=order)\n",
    "order2 = {'Taxa': ['Order\\n'+str(len(orderrr))+'/59'], 'Count': pd.Series([100])}\n",
    "orderbar2 = pd.DataFrame(data=order2)"
   ]
  },
  {
   "cell_type": "code",
   "execution_count": 38,
   "metadata": {},
   "outputs": [
    {
     "data": {
      "text/plain": [
       "114"
      ]
     },
     "execution_count": 38,
     "metadata": {},
     "output_type": "execute_result"
    }
   ],
   "source": [
    "len(familyr)"
   ]
  },
  {
   "cell_type": "code",
   "execution_count": 39,
   "metadata": {},
   "outputs": [
    {
     "data": {
      "text/plain": [
       "61"
      ]
     },
     "execution_count": 39,
     "metadata": {},
     "output_type": "execute_result"
    }
   ],
   "source": [
    "len(familyrr)"
   ]
  },
  {
   "cell_type": "code",
   "execution_count": 40,
   "metadata": {},
   "outputs": [],
   "source": [
    "fam = {'Taxa': ['Family\\n'+str(len(familyrr))+'/113'], 'Count': pd.Series([len(familyrr)/len(familyr)*100])}\n",
    "fambar = pd.DataFrame(data=fam)\n",
    "fam2 = {'Taxa': ['Family\\n'+str(len(familyrr))+'/113'], 'Count': pd.Series([100])}\n",
    "fambar2 = pd.DataFrame(data=fam2)"
   ]
  },
  {
   "cell_type": "code",
   "execution_count": 41,
   "metadata": {},
   "outputs": [
    {
     "data": {
      "text/plain": [
       "315"
      ]
     },
     "execution_count": 41,
     "metadata": {},
     "output_type": "execute_result"
    }
   ],
   "source": [
    "len(genusr)"
   ]
  },
  {
   "cell_type": "code",
   "execution_count": 42,
   "metadata": {},
   "outputs": [
    {
     "data": {
      "text/plain": [
       "142"
      ]
     },
     "execution_count": 42,
     "metadata": {},
     "output_type": "execute_result"
    }
   ],
   "source": [
    "len(genusrr)"
   ]
  },
  {
   "cell_type": "code",
   "execution_count": 43,
   "metadata": {},
   "outputs": [],
   "source": [
    "gen = {'Taxa': ['Genus\\n'+str(len(genusrr))+'/312'], 'Count': pd.Series([len(genusrr)/len(genusr)*100])}\n",
    "genbar = pd.DataFrame(data=gen)\n",
    "gen2 = {'Taxa': ['Genus\\n'+str(len(genusrr))+'/312'], 'Count': pd.Series([100])}\n",
    "genbar2 = pd.DataFrame(data=gen2)"
   ]
  },
  {
   "cell_type": "code",
   "execution_count": 44,
   "metadata": {},
   "outputs": [
    {
     "data": {
      "text/plain": [
       "313"
      ]
     },
     "execution_count": 44,
     "metadata": {},
     "output_type": "execute_result"
    }
   ],
   "source": [
    "len(asvrr)"
   ]
  },
  {
   "cell_type": "code",
   "execution_count": 45,
   "metadata": {},
   "outputs": [
    {
     "data": {
      "text/plain": [
       "1653"
      ]
     },
     "execution_count": 45,
     "metadata": {},
     "output_type": "execute_result"
    }
   ],
   "source": [
    "len(asvr)"
   ]
  },
  {
   "cell_type": "code",
   "execution_count": 46,
   "metadata": {},
   "outputs": [],
   "source": [
    "asv = {'Taxa': ['ASV\\n'+str(len(asvrr))+'/'+str(len(asvr))], 'Count': pd.Series([len(asvrr)/len(asvr)*100])}\n",
    "asvbar = pd.DataFrame(data=asv)\n",
    "asv2 = {'Taxa': ['ASV\\n'+str(len(asvrr))+'/'+str(len(asvr))], 'Count': pd.Series([100])}\n",
    "asvbar2 = pd.DataFrame(data=asv2)"
   ]
  },
  {
   "cell_type": "code",
   "execution_count": 47,
   "metadata": {},
   "outputs": [],
   "source": [
    "ghost = pd.concat([phybar,clasbar,orderbar,fambar,genbar,asvbar])\n",
    "ghost1 = pd.concat([phybar2,clasbar2,orderbar2,fambar2,genbar2,asvbar2])"
   ]
  },
  {
   "cell_type": "code",
   "execution_count": 48,
   "metadata": {},
   "outputs": [],
   "source": [
    "ghost1 = ghost1.rename(columns = {'Count':\"Percentage Rhythmic\", \"Taxa\":'Taxonomic Level'})\n",
    "ghost = ghost.rename(columns = {'Count':\"Percentage Rhythmic\",'Taxa': 'Taxonomic Level'})"
   ]
  },
  {
   "cell_type": "code",
   "execution_count": 49,
   "metadata": {},
   "outputs": [
    {
     "data": {
      "image/png": "[encoded data removed]",
      "text/plain": [
       "<Figure size 158.4x288 with 1 Axes>"
      ]
     },
     "metadata": {},
     "output_type": "display_data"
    }
   ],
   "source": [
    "fig, ax = plt.subplots(figsize = (2.2, 4))\n",
    "sns.set(style=\"white\")\n",
    "sns.despine(bottom = True, left = True)\n",
    "jk = sns.barplot(y = ghost1['Taxonomic Level'],x = ghost1['Percentage Rhythmic'], color = 'lightblue')\n",
    "j = sns.barplot(y = ghost['Taxonomic Level'],x = ghost['Percentage Rhythmic'], color = 'darkblue')\n",
    "#asvplot111 = sns.barplot(x = asvbar['ASV'],y = asvbar[''], color = 'darkblue')\n",
    "#asvplot111.set(xlabel = None)\n",
    "#asvplot211.set(xlabel = None)\n",
    "top_bar = mpatches.Patch(color='darkblue', label='Rhythmic')\n",
    "bottom_bar = mpatches.Patch(color='lightblue', label='Arrhythmic')\n",
    "ax.set_ylabel('Taxonomic Level', fontsize = 13)\n",
    "ax.set_xlabel('Percentage Rhythmic', fontsize = 13)\n",
    "#plt.text(color = 'white', x = 0, y = 2.5,s = '8/15',fontsize = 'medium')\n",
    "plt.legend(handles=[top_bar, bottom_bar], facecolor = 'white', loc = (0.85,-0.35), edgecolor = 'white')\n",
    "plt.setp(j.get_legend().get_texts(), fontsize='11')\n",
    "#plt.legend(facecolor='white', framealpha=1)\n",
    "plt.savefig('/home/shs008/zarrinpar/Pynchon/Notebooks/arrhythmia/agp/results_20220418/Figures/Final Figures/figure1/tax_barplot_bloom_diurnal.svg', format = 'svg')"
   ]
  },
  {
   "cell_type": "code",
   "execution_count": null,
   "metadata": {},
   "outputs": [],
   "source": []
  },
  {
   "cell_type": "markdown",
   "metadata": {},
   "source": [
    "## Seasonal All Data No bloom"
   ]
  },
  {
   "cell_type": "code",
   "execution_count": 50,
   "metadata": {},
   "outputs": [],
   "source": [
    "phyr = pd.read_csv('/home/shs008/zarrinpar/Pynchon/Notebooks/arrhythmia/agp/results_20220418/Cosinor_results/Whole Data/2023/seasonal/CLR/phylum_results.csv', index_col = 'test')\n",
    "classr = pd.read_csv('/home/shs008/zarrinpar/Pynchon/Notebooks/arrhythmia/agp/results_20220418/Cosinor_results/Whole Data/2023/seasonal/CLR/class_results.csv', index_col = 'test')\n",
    "orderr = pd.read_csv('/home/shs008/zarrinpar/Pynchon/Notebooks/arrhythmia/agp/results_20220418/Cosinor_results/Whole Data/2023/seasonal/CLR/order_results.csv', index_col = 'test')\n",
    "familyr = pd.read_csv('/home/shs008/zarrinpar/Pynchon/Notebooks/arrhythmia/agp/results_20220418/Cosinor_results/Whole Data/2023/seasonal/CLR/family_results.csv', index_col = 'test')\n",
    "genusr = pd.read_csv('/home/shs008/zarrinpar/Pynchon/Notebooks/arrhythmia/agp/results_20220418/Cosinor_results/Whole Data/2023/seasonal/CLR/genus_results.csv', index_col = 'test')\n",
    "asvr = pd.read_csv('/home/shs008/zarrinpar/Pynchon/Notebooks/arrhythmia/agp/results_20220418/Cosinor_results/Whole Data/2023/seasonal/CLR/asv_seasonal.csv', index_col = 'test')"
   ]
  },
  {
   "cell_type": "code",
   "execution_count": 51,
   "metadata": {},
   "outputs": [],
   "source": [
    "phyrr = phyr[phyr.q<0.05]\n",
    "classrr = classr[classr.q<0.05]\n",
    "orderrr = orderr[orderr.q<0.05]\n",
    "familyrr = familyr[familyr.q<0.05]\n",
    "genusrr = genusr[genusr.q<0.05]\n",
    "asvrr = asvr[asvr.q<0.05]"
   ]
  },
  {
   "cell_type": "code",
   "execution_count": 52,
   "metadata": {},
   "outputs": [
    {
     "data": {
      "text/plain": [
       "14"
      ]
     },
     "execution_count": 52,
     "metadata": {},
     "output_type": "execute_result"
    }
   ],
   "source": [
    "len(phyr)"
   ]
  },
  {
   "cell_type": "code",
   "execution_count": 53,
   "metadata": {},
   "outputs": [
    {
     "data": {
      "text/plain": [
       "12"
      ]
     },
     "execution_count": 53,
     "metadata": {},
     "output_type": "execute_result"
    }
   ],
   "source": [
    "len(phyrr)"
   ]
  },
  {
   "cell_type": "code",
   "execution_count": 54,
   "metadata": {},
   "outputs": [],
   "source": [
    "phy = {'Taxa': ['Phylum\\n'+str(len(phyrr))+'/14'], 'Count': pd.Series([len(phyrr)/len(phyr)*100])}\n",
    "phybar = pd.DataFrame(data=phy)\n",
    "phy2 = {'Taxa': ['Phylum\\n'+str(len(phyrr))+'/14'], 'Count': pd.Series([100])}\n",
    "phybar2 = pd.DataFrame(data=phy2)"
   ]
  },
  {
   "cell_type": "code",
   "execution_count": 55,
   "metadata": {},
   "outputs": [
    {
     "data": {
      "text/plain": [
       "23"
      ]
     },
     "execution_count": 55,
     "metadata": {},
     "output_type": "execute_result"
    }
   ],
   "source": [
    "len(classr)"
   ]
  },
  {
   "cell_type": "code",
   "execution_count": 56,
   "metadata": {},
   "outputs": [
    {
     "data": {
      "text/plain": [
       "18"
      ]
     },
     "execution_count": 56,
     "metadata": {},
     "output_type": "execute_result"
    }
   ],
   "source": [
    "len(classrr)"
   ]
  },
  {
   "cell_type": "code",
   "execution_count": 57,
   "metadata": {},
   "outputs": [],
   "source": [
    "clas = {'Taxa': ['Class\\n'+str(len(classrr))+'/23'], 'Count': pd.Series([len(classrr)/len(classr)*100])}\n",
    "clasbar = pd.DataFrame(data=clas)\n",
    "clas2 = {'Taxa': ['Class\\n'+str(len(classrr))+'/23'], 'Count': pd.Series([100])}\n",
    "clasbar2 = pd.DataFrame(data=clas2)"
   ]
  },
  {
   "cell_type": "code",
   "execution_count": 58,
   "metadata": {},
   "outputs": [
    {
     "data": {
      "text/plain": [
       "59"
      ]
     },
     "execution_count": 58,
     "metadata": {},
     "output_type": "execute_result"
    }
   ],
   "source": [
    "len(orderr)"
   ]
  },
  {
   "cell_type": "code",
   "execution_count": 59,
   "metadata": {},
   "outputs": [
    {
     "data": {
      "text/plain": [
       "46"
      ]
     },
     "execution_count": 59,
     "metadata": {},
     "output_type": "execute_result"
    }
   ],
   "source": [
    "len(orderrr)"
   ]
  },
  {
   "cell_type": "code",
   "execution_count": 60,
   "metadata": {},
   "outputs": [],
   "source": [
    "order = {'Taxa': ['Order\\n'+str(len(orderrr))+'/59'], 'Count': pd.Series([len(orderrr)/len(orderr)*100])}\n",
    "orderbar = pd.DataFrame(data=order)\n",
    "order2 = {'Taxa': ['Order\\n'+str(len(orderrr))+'/59'], 'Count': pd.Series([100])}\n",
    "orderbar2 = pd.DataFrame(data=order2)"
   ]
  },
  {
   "cell_type": "code",
   "execution_count": 61,
   "metadata": {},
   "outputs": [
    {
     "data": {
      "text/plain": [
       "113"
      ]
     },
     "execution_count": 61,
     "metadata": {},
     "output_type": "execute_result"
    }
   ],
   "source": [
    "len(familyr)"
   ]
  },
  {
   "cell_type": "code",
   "execution_count": 62,
   "metadata": {},
   "outputs": [
    {
     "data": {
      "text/plain": [
       "76"
      ]
     },
     "execution_count": 62,
     "metadata": {},
     "output_type": "execute_result"
    }
   ],
   "source": [
    "len(familyrr)"
   ]
  },
  {
   "cell_type": "code",
   "execution_count": 63,
   "metadata": {},
   "outputs": [],
   "source": [
    "fam = {'Taxa': ['Family\\n'+str(len(familyrr))+'/113'], 'Count': pd.Series([len(familyrr)/len(familyr)*100])}\n",
    "fambar = pd.DataFrame(data=fam)\n",
    "fam2 = {'Taxa': ['Family\\n'+str(len(familyrr))+'/113'], 'Count': pd.Series([100])}\n",
    "fambar2 = pd.DataFrame(data=fam2)"
   ]
  },
  {
   "cell_type": "code",
   "execution_count": 64,
   "metadata": {},
   "outputs": [
    {
     "data": {
      "text/plain": [
       "312"
      ]
     },
     "execution_count": 64,
     "metadata": {},
     "output_type": "execute_result"
    }
   ],
   "source": [
    "len(genusr)"
   ]
  },
  {
   "cell_type": "code",
   "execution_count": 65,
   "metadata": {},
   "outputs": [
    {
     "data": {
      "text/plain": [
       "152"
      ]
     },
     "execution_count": 65,
     "metadata": {},
     "output_type": "execute_result"
    }
   ],
   "source": [
    "len(genusrr)"
   ]
  },
  {
   "cell_type": "code",
   "execution_count": 66,
   "metadata": {},
   "outputs": [],
   "source": [
    "gen = {'Taxa': ['Genus\\n'+str(len(genusrr))+'/312'], 'Count': pd.Series([len(genusrr)/len(genusr)*100])}\n",
    "genbar = pd.DataFrame(data=gen)\n",
    "gen2 = {'Taxa': ['Genus\\n'+str(len(genusrr))+'/312'], 'Count': pd.Series([100])}\n",
    "genbar2 = pd.DataFrame(data=gen2)"
   ]
  },
  {
   "cell_type": "code",
   "execution_count": 67,
   "metadata": {},
   "outputs": [
    {
     "data": {
      "text/plain": [
       "632"
      ]
     },
     "execution_count": 67,
     "metadata": {},
     "output_type": "execute_result"
    }
   ],
   "source": [
    "len(asvrr)"
   ]
  },
  {
   "cell_type": "code",
   "execution_count": 68,
   "metadata": {},
   "outputs": [
    {
     "data": {
      "text/plain": [
       "1638"
      ]
     },
     "execution_count": 68,
     "metadata": {},
     "output_type": "execute_result"
    }
   ],
   "source": [
    "len(asvr)"
   ]
  },
  {
   "cell_type": "code",
   "execution_count": 69,
   "metadata": {},
   "outputs": [],
   "source": [
    "asv = {'Taxa': ['ASV\\n'+str(len(asvrr))+'/1638'], 'Count': pd.Series([len(asvrr)/len(asvr)*100])}\n",
    "asvbar = pd.DataFrame(data=asv)\n",
    "asv2 = {'Taxa': ['ASV\\n'+str(len(asvrr))+'/1638'], 'Count': pd.Series([100])}\n",
    "asvbar2 = pd.DataFrame(data=asv2)"
   ]
  },
  {
   "cell_type": "code",
   "execution_count": 70,
   "metadata": {},
   "outputs": [],
   "source": [
    "ghost = pd.concat([phybar,clasbar,orderbar,fambar,genbar,asvbar])\n",
    "ghost1 = pd.concat([phybar2,clasbar2,orderbar2,fambar2,genbar2,asvbar2])"
   ]
  },
  {
   "cell_type": "code",
   "execution_count": 71,
   "metadata": {},
   "outputs": [],
   "source": [
    "ghost1 = ghost1.rename(columns = {'Count':\"Percentage Rhythmic\", \"Taxa\":'Taxonomic Level'})\n",
    "ghost = ghost.rename(columns = {'Count':\"Percentage Rhythmic\",'Taxa': 'Taxonomic Level'})"
   ]
  },
  {
   "cell_type": "code",
   "execution_count": 72,
   "metadata": {},
   "outputs": [
    {
     "data": {
      "image/png": "[encoded data removed]",
      "text/plain": [
       "<Figure size 158.4x288 with 1 Axes>"
      ]
     },
     "metadata": {},
     "output_type": "display_data"
    }
   ],
   "source": [
    "fig, ax = plt.subplots(figsize = (2.2, 4))\n",
    "sns.set(style=\"white\")\n",
    "sns.despine(bottom = True, left = True)\n",
    "jk = sns.barplot(y = ghost1['Taxonomic Level'],x = ghost1['Percentage Rhythmic'], color = 'lightblue')\n",
    "j = sns.barplot(y = ghost['Taxonomic Level'],x = ghost['Percentage Rhythmic'], color = 'darkblue')\n",
    "#asvplot111 = sns.barplot(x = asvbar['ASV'],y = asvbar[''], color = 'darkblue')\n",
    "#asvplot111.set(xlabel = None)\n",
    "#asvplot211.set(xlabel = None)\n",
    "top_bar = mpatches.Patch(color='darkblue', label='Rhythmic')\n",
    "bottom_bar = mpatches.Patch(color='lightblue', label='Arrhythmic')\n",
    "ax.set_ylabel('Taxonomic Level', fontsize = 13)\n",
    "ax.set_xlabel('Percentage Rhythmic', fontsize = 13)\n",
    "#plt.text(color = 'white', x = 0, y = 2.5,s = '8/15',fontsize = 'medium')\n",
    "plt.legend(handles=[top_bar, bottom_bar], facecolor = 'white', loc = (0.85,-0.35), edgecolor = 'white')\n",
    "plt.setp(j.get_legend().get_texts(), fontsize='11')\n",
    "#plt.legend(facecolor='white', framealpha=1)\n",
    "plt.savefig('/home/shs008/zarrinpar/Pynchon/Notebooks/arrhythmia/agp/results_20220418/Figures/Final Figures/figure3/nobloom_seasonal_tax_barplot.svg', format = 'svg')"
   ]
  },
  {
   "cell_type": "markdown",
   "metadata": {},
   "source": [
    "## Seasonal All data bloom"
   ]
  },
  {
   "cell_type": "code",
   "execution_count": 73,
   "metadata": {},
   "outputs": [],
   "source": [
    "phyr = pd.read_csv('/home/shs008/zarrinpar/Pynchon/Notebooks/arrhythmia/agp/results_20220418/Cosinor_results/Whole Data/2023/seasonal/bloom/phy.csv', index_col = 'test')\n",
    "classr = pd.read_csv('/home/shs008/zarrinpar/Pynchon/Notebooks/arrhythmia/agp/results_20220418/Cosinor_results/Whole Data/2023/seasonal/bloom/class.csv', index_col = 'test')\n",
    "orderr = pd.read_csv('/home/shs008/zarrinpar/Pynchon/Notebooks/arrhythmia/agp/results_20220418/Cosinor_results/Whole Data/2023/seasonal/bloom/order.csv', index_col = 'test')\n",
    "familyr = pd.read_csv('/home/shs008/zarrinpar/Pynchon/Notebooks/arrhythmia/agp/results_20220418/Cosinor_results/Whole Data/2023/seasonal/bloom/family.csv', index_col = 'test')\n",
    "genusr = pd.read_csv('/home/shs008/zarrinpar/Pynchon/Notebooks/arrhythmia/agp/results_20220418/Cosinor_results/Whole Data/2023/seasonal/bloom/genus.csv', index_col = 'test')\n",
    "asvr = pd.read_csv('/home/shs008/zarrinpar/Pynchon/Notebooks/arrhythmia/agp/results_20220418/Cosinor_results/Whole Data/2023/seasonal/bloom/asv.csv', index_col = 'test')"
   ]
  },
  {
   "cell_type": "code",
   "execution_count": 74,
   "metadata": {},
   "outputs": [],
   "source": [
    "phyrr = phyr[phyr.q<0.05]\n",
    "classrr = classr[classr.q<0.05]\n",
    "orderrr = orderr[orderr.q<0.05]\n",
    "familyrr = familyr[familyr.q<0.05]\n",
    "genusrr = genusr[genusr.q<0.05]\n",
    "asvrr = asvr[asvr.q<0.05]"
   ]
  },
  {
   "cell_type": "code",
   "execution_count": 75,
   "metadata": {},
   "outputs": [
    {
     "data": {
      "text/plain": [
       "14"
      ]
     },
     "execution_count": 75,
     "metadata": {},
     "output_type": "execute_result"
    }
   ],
   "source": [
    "len(phyr)"
   ]
  },
  {
   "cell_type": "code",
   "execution_count": 76,
   "metadata": {},
   "outputs": [
    {
     "data": {
      "text/plain": [
       "14"
      ]
     },
     "execution_count": 76,
     "metadata": {},
     "output_type": "execute_result"
    }
   ],
   "source": [
    "len(phyrr)"
   ]
  },
  {
   "cell_type": "code",
   "execution_count": 77,
   "metadata": {},
   "outputs": [],
   "source": [
    "phy = {'Taxa': ['Phylum\\n'+str(len(phyrr))+'/14'], 'Count': pd.Series([len(phyrr)/len(phyr)*100])}\n",
    "phybar = pd.DataFrame(data=phy)\n",
    "phy2 = {'Taxa': ['Phylum\\n'+str(len(phyrr))+'/14'], 'Count': pd.Series([100])}\n",
    "phybar2 = pd.DataFrame(data=phy2)"
   ]
  },
  {
   "cell_type": "code",
   "execution_count": 78,
   "metadata": {},
   "outputs": [
    {
     "data": {
      "text/plain": [
       "23"
      ]
     },
     "execution_count": 78,
     "metadata": {},
     "output_type": "execute_result"
    }
   ],
   "source": [
    "len(classr)"
   ]
  },
  {
   "cell_type": "code",
   "execution_count": 79,
   "metadata": {},
   "outputs": [
    {
     "data": {
      "text/plain": [
       "22"
      ]
     },
     "execution_count": 79,
     "metadata": {},
     "output_type": "execute_result"
    }
   ],
   "source": [
    "len(classrr)"
   ]
  },
  {
   "cell_type": "code",
   "execution_count": 80,
   "metadata": {},
   "outputs": [],
   "source": [
    "clas = {'Taxa': ['Class\\n'+str(len(classrr))+'/23'], 'Count': pd.Series([len(classrr)/len(classr)*100])}\n",
    "clasbar = pd.DataFrame(data=clas)\n",
    "clas2 = {'Taxa': ['Class\\n'+str(len(classrr))+'/23'], 'Count': pd.Series([100])}\n",
    "clasbar2 = pd.DataFrame(data=clas2)"
   ]
  },
  {
   "cell_type": "code",
   "execution_count": 81,
   "metadata": {},
   "outputs": [
    {
     "data": {
      "text/plain": [
       "59"
      ]
     },
     "execution_count": 81,
     "metadata": {},
     "output_type": "execute_result"
    }
   ],
   "source": [
    "len(orderr)"
   ]
  },
  {
   "cell_type": "code",
   "execution_count": 82,
   "metadata": {},
   "outputs": [
    {
     "data": {
      "text/plain": [
       "48"
      ]
     },
     "execution_count": 82,
     "metadata": {},
     "output_type": "execute_result"
    }
   ],
   "source": [
    "len(orderrr)"
   ]
  },
  {
   "cell_type": "code",
   "execution_count": 83,
   "metadata": {},
   "outputs": [],
   "source": [
    "order = {'Taxa': ['Order\\n'+str(len(orderrr))+'/59'], 'Count': pd.Series([len(orderrr)/len(orderr)*100])}\n",
    "orderbar = pd.DataFrame(data=order)\n",
    "order2 = {'Taxa': ['Order\\n'+str(len(orderrr))+'/59'], 'Count': pd.Series([100])}\n",
    "orderbar2 = pd.DataFrame(data=order2)"
   ]
  },
  {
   "cell_type": "code",
   "execution_count": 84,
   "metadata": {},
   "outputs": [
    {
     "data": {
      "text/plain": [
       "114"
      ]
     },
     "execution_count": 84,
     "metadata": {},
     "output_type": "execute_result"
    }
   ],
   "source": [
    "len(familyr)"
   ]
  },
  {
   "cell_type": "code",
   "execution_count": 85,
   "metadata": {},
   "outputs": [
    {
     "data": {
      "text/plain": [
       "90"
      ]
     },
     "execution_count": 85,
     "metadata": {},
     "output_type": "execute_result"
    }
   ],
   "source": [
    "len(familyrr)"
   ]
  },
  {
   "cell_type": "code",
   "execution_count": 86,
   "metadata": {},
   "outputs": [],
   "source": [
    "fam = {'Taxa': ['Family\\n'+str(len(familyrr))+'/113'], 'Count': pd.Series([len(familyrr)/len(familyr)*100])}\n",
    "fambar = pd.DataFrame(data=fam)\n",
    "fam2 = {'Taxa': ['Family\\n'+str(len(familyrr))+'/113'], 'Count': pd.Series([100])}\n",
    "fambar2 = pd.DataFrame(data=fam2)"
   ]
  },
  {
   "cell_type": "code",
   "execution_count": 87,
   "metadata": {},
   "outputs": [
    {
     "data": {
      "text/plain": [
       "315"
      ]
     },
     "execution_count": 87,
     "metadata": {},
     "output_type": "execute_result"
    }
   ],
   "source": [
    "len(genusr)"
   ]
  },
  {
   "cell_type": "code",
   "execution_count": 88,
   "metadata": {},
   "outputs": [
    {
     "data": {
      "text/plain": [
       "226"
      ]
     },
     "execution_count": 88,
     "metadata": {},
     "output_type": "execute_result"
    }
   ],
   "source": [
    "len(genusrr)"
   ]
  },
  {
   "cell_type": "code",
   "execution_count": 89,
   "metadata": {},
   "outputs": [],
   "source": [
    "gen = {'Taxa': ['Genus\\n'+str(len(genusrr))+'/312'], 'Count': pd.Series([len(genusrr)/len(genusr)*100])}\n",
    "genbar = pd.DataFrame(data=gen)\n",
    "gen2 = {'Taxa': ['Genus\\n'+str(len(genusrr))+'/312'], 'Count': pd.Series([100])}\n",
    "genbar2 = pd.DataFrame(data=gen2)"
   ]
  },
  {
   "cell_type": "code",
   "execution_count": 90,
   "metadata": {},
   "outputs": [
    {
     "data": {
      "text/plain": [
       "639"
      ]
     },
     "execution_count": 90,
     "metadata": {},
     "output_type": "execute_result"
    }
   ],
   "source": [
    "len(asvrr)"
   ]
  },
  {
   "cell_type": "code",
   "execution_count": 91,
   "metadata": {},
   "outputs": [
    {
     "data": {
      "text/plain": [
       "1653"
      ]
     },
     "execution_count": 91,
     "metadata": {},
     "output_type": "execute_result"
    }
   ],
   "source": [
    "len(asvr)"
   ]
  },
  {
   "cell_type": "code",
   "execution_count": 92,
   "metadata": {},
   "outputs": [],
   "source": [
    "asv = {'Taxa': ['ASV\\n'+str(len(asvrr))+'/'+str(len(asvr))], 'Count': pd.Series([len(asvrr)/len(asvr)*100])}\n",
    "asvbar = pd.DataFrame(data=asv)\n",
    "asv2 = {'Taxa': ['ASV\\n'+str(len(asvrr))+'/'+str(len(asvr))], 'Count': pd.Series([100])}\n",
    "asvbar2 = pd.DataFrame(data=asv2)"
   ]
  },
  {
   "cell_type": "code",
   "execution_count": 93,
   "metadata": {},
   "outputs": [],
   "source": [
    "ghost = pd.concat([phybar,clasbar,orderbar,fambar,genbar,asvbar])\n",
    "ghost1 = pd.concat([phybar2,clasbar2,orderbar2,fambar2,genbar2,asvbar2])"
   ]
  },
  {
   "cell_type": "code",
   "execution_count": 94,
   "metadata": {},
   "outputs": [],
   "source": [
    "ghost1 = ghost1.rename(columns = {'Count':\"Percentage Rhythmic\", \"Taxa\":'Taxonomic Level'})\n",
    "ghost = ghost.rename(columns = {'Count':\"Percentage Rhythmic\",'Taxa': 'Taxonomic Level'})"
   ]
  },
  {
   "cell_type": "code",
   "execution_count": 95,
   "metadata": {},
   "outputs": [
    {
     "data": {
      "text/plain": [
       "[None, None, None, None]"
      ]
     },
     "execution_count": 95,
     "metadata": {},
     "output_type": "execute_result"
    },
    {
     "data": {
      "image/png": "[encoded data removed]",
      "text/plain": [
       "<Figure size 158.4x288 with 1 Axes>"
      ]
     },
     "metadata": {},
     "output_type": "display_data"
    }
   ],
   "source": [
    "fig, ax = plt.subplots(figsize = (2.2, 4))\n",
    "sns.set(style=\"white\")\n",
    "sns.despine(bottom = True, left = True)\n",
    "jk = sns.barplot(y = ghost1['Taxonomic Level'],x = ghost1['Percentage Rhythmic'], color = 'lightblue')\n",
    "j = sns.barplot(y = ghost['Taxonomic Level'],x = ghost['Percentage Rhythmic'], color = 'darkblue')\n",
    "#asvplot111 = sns.barplot(x = asvbar['ASV'],y = asvbar[''], color = 'darkblue')\n",
    "#asvplot111.set(xlabel = None)\n",
    "#asvplot211.set(xlabel = None)\n",
    "top_bar = mpatches.Patch(color='darkblue', label='Rhythmic')\n",
    "bottom_bar = mpatches.Patch(color='lightblue', label='Arrhythmic')\n",
    "ax.set_ylabel('Taxonomic Level', fontsize = 13)\n",
    "ax.set_xlabel('Percentage Rhythmic', fontsize = 13)\n",
    "#plt.text(color = 'white', x = 0, y = 2.5,s = '8/15',fontsize = 'medium')\n",
    "plt.legend(handles=[top_bar, bottom_bar], facecolor = 'white', loc = (0.85,-0.35), edgecolor = 'white')\n",
    "plt.setp(j.get_legend().get_texts(), fontsize='11')\n",
    "#plt.legend(facecolor='white', framealpha=1)\n",
    "#plt.savefig('/home/shs008/zarrinpar/Pynchon/Notebooks/arrhythmia/agp/results_20220418/Figures/Final Figures/figure1/tax_barplot.svg', format = 'svg')"
   ]
  },
  {
   "cell_type": "markdown",
   "metadata": {},
   "source": [
    "## Seasonal Northern Hemisphere No bloom"
   ]
  },
  {
   "cell_type": "code",
   "execution_count": 96,
   "metadata": {},
   "outputs": [],
   "source": [
    "phyr = pd.read_csv('/home/shs008/zarrinpar/Pynchon/Notebooks/arrhythmia/agp/results_20220418/Cosinor_results/Whole Data/2023/seasonal/nh_phylum_results.csv', index_col = 'test')\n",
    "classr = pd.read_csv('/home/shs008/zarrinpar/Pynchon/Notebooks/arrhythmia/agp/results_20220418/Cosinor_results/Whole Data/2023/seasonal/nh_class_results.csv', index_col = 'test')\n",
    "orderr = pd.read_csv('/home/shs008/zarrinpar/Pynchon/Notebooks/arrhythmia/agp/results_20220418/Cosinor_results/Whole Data/2023/seasonal/nh_order_results.csv', index_col = 'test')\n",
    "familyr = pd.read_csv('/home/shs008/zarrinpar/Pynchon/Notebooks/arrhythmia/agp/results_20220418/Cosinor_results/Whole Data/2023/seasonal/nh_family_results.csv', index_col = 'test')\n",
    "genusr = pd.read_csv('/home/shs008/zarrinpar/Pynchon/Notebooks/arrhythmia/agp/results_20220418/Cosinor_results/Whole Data/2023/seasonal/nh_genus_results.csv', index_col = 'test')\n",
    "asvr = pd.read_csv('/home/shs008/zarrinpar/Pynchon/Notebooks/arrhythmia/agp/results_20220418/Cosinor_results/Whole Data/2023/seasonal/nh_asv_results.csv', index_col = 'test')"
   ]
  },
  {
   "cell_type": "code",
   "execution_count": 97,
   "metadata": {},
   "outputs": [],
   "source": [
    "phyrr = phyr[phyr.q<0.05]\n",
    "classrr = classr[classr.q<0.05]\n",
    "orderrr = orderr[orderr.q<0.05]\n",
    "familyrr = familyr[familyr.q<0.05]\n",
    "genusrr = genusr[genusr.q<0.05]\n",
    "asvrr = asvr[asvr.q<0.05]"
   ]
  },
  {
   "cell_type": "code",
   "execution_count": 98,
   "metadata": {},
   "outputs": [
    {
     "data": {
      "text/plain": [
       "14"
      ]
     },
     "execution_count": 98,
     "metadata": {},
     "output_type": "execute_result"
    }
   ],
   "source": [
    "len(phyr)"
   ]
  },
  {
   "cell_type": "code",
   "execution_count": 99,
   "metadata": {},
   "outputs": [
    {
     "data": {
      "text/plain": [
       "12"
      ]
     },
     "execution_count": 99,
     "metadata": {},
     "output_type": "execute_result"
    }
   ],
   "source": [
    "len(phyrr)"
   ]
  },
  {
   "cell_type": "code",
   "execution_count": 100,
   "metadata": {},
   "outputs": [],
   "source": [
    "phy = {'Taxa': ['Phylum\\n'+str(len(phyrr))+'/14'], 'Count': pd.Series([len(phyrr)/len(phyr)*100])}\n",
    "phybar = pd.DataFrame(data=phy)\n",
    "phy2 = {'Taxa': ['Phylum\\n'+str(len(phyrr))+'/14'], 'Count': pd.Series([100])}\n",
    "phybar2 = pd.DataFrame(data=phy2)"
   ]
  },
  {
   "cell_type": "code",
   "execution_count": 101,
   "metadata": {},
   "outputs": [
    {
     "data": {
      "text/plain": [
       "23"
      ]
     },
     "execution_count": 101,
     "metadata": {},
     "output_type": "execute_result"
    }
   ],
   "source": [
    "len(classr)"
   ]
  },
  {
   "cell_type": "code",
   "execution_count": 102,
   "metadata": {},
   "outputs": [
    {
     "data": {
      "text/plain": [
       "17"
      ]
     },
     "execution_count": 102,
     "metadata": {},
     "output_type": "execute_result"
    }
   ],
   "source": [
    "len(classrr)"
   ]
  },
  {
   "cell_type": "code",
   "execution_count": 103,
   "metadata": {},
   "outputs": [],
   "source": [
    "clas = {'Taxa': ['Class\\n'+str(len(classrr))+'/23'], 'Count': pd.Series([len(classrr)/len(classr)*100])}\n",
    "clasbar = pd.DataFrame(data=clas)\n",
    "clas2 = {'Taxa': ['Class\\n'+str(len(classrr))+'/23'], 'Count': pd.Series([100])}\n",
    "clasbar2 = pd.DataFrame(data=clas2)"
   ]
  },
  {
   "cell_type": "code",
   "execution_count": 104,
   "metadata": {},
   "outputs": [
    {
     "data": {
      "text/plain": [
       "59"
      ]
     },
     "execution_count": 104,
     "metadata": {},
     "output_type": "execute_result"
    }
   ],
   "source": [
    "len(orderr)"
   ]
  },
  {
   "cell_type": "code",
   "execution_count": 105,
   "metadata": {},
   "outputs": [
    {
     "data": {
      "text/plain": [
       "46"
      ]
     },
     "execution_count": 105,
     "metadata": {},
     "output_type": "execute_result"
    }
   ],
   "source": [
    "len(orderrr)"
   ]
  },
  {
   "cell_type": "code",
   "execution_count": 106,
   "metadata": {},
   "outputs": [],
   "source": [
    "order = {'Taxa': ['Order\\n'+str(len(orderrr))+'/59'], 'Count': pd.Series([len(orderrr)/len(orderr)*100])}\n",
    "orderbar = pd.DataFrame(data=order)\n",
    "order2 = {'Taxa': ['Order\\n'+str(len(orderrr))+'/59'], 'Count': pd.Series([100])}\n",
    "orderbar2 = pd.DataFrame(data=order2)"
   ]
  },
  {
   "cell_type": "code",
   "execution_count": 107,
   "metadata": {},
   "outputs": [
    {
     "data": {
      "text/plain": [
       "113"
      ]
     },
     "execution_count": 107,
     "metadata": {},
     "output_type": "execute_result"
    }
   ],
   "source": [
    "len(familyr)"
   ]
  },
  {
   "cell_type": "code",
   "execution_count": 108,
   "metadata": {},
   "outputs": [
    {
     "data": {
      "text/plain": [
       "69"
      ]
     },
     "execution_count": 108,
     "metadata": {},
     "output_type": "execute_result"
    }
   ],
   "source": [
    "len(familyrr)"
   ]
  },
  {
   "cell_type": "code",
   "execution_count": 109,
   "metadata": {},
   "outputs": [],
   "source": [
    "fam = {'Taxa': ['Family\\n'+str(len(familyrr))+'/113'], 'Count': pd.Series([len(familyrr)/len(familyr)*100])}\n",
    "fambar = pd.DataFrame(data=fam)\n",
    "fam2 = {'Taxa': ['Family\\n'+str(len(familyrr))+'/113'], 'Count': pd.Series([100])}\n",
    "fambar2 = pd.DataFrame(data=fam2)"
   ]
  },
  {
   "cell_type": "code",
   "execution_count": 110,
   "metadata": {},
   "outputs": [
    {
     "data": {
      "text/plain": [
       "312"
      ]
     },
     "execution_count": 110,
     "metadata": {},
     "output_type": "execute_result"
    }
   ],
   "source": [
    "len(genusr)"
   ]
  },
  {
   "cell_type": "code",
   "execution_count": 111,
   "metadata": {},
   "outputs": [
    {
     "data": {
      "text/plain": [
       "156"
      ]
     },
     "execution_count": 111,
     "metadata": {},
     "output_type": "execute_result"
    }
   ],
   "source": [
    "len(genusrr)"
   ]
  },
  {
   "cell_type": "code",
   "execution_count": 112,
   "metadata": {},
   "outputs": [],
   "source": [
    "gen = {'Taxa': ['Genus\\n'+str(len(genusrr))+'/312'], 'Count': pd.Series([len(genusrr)/len(genusr)*100])}\n",
    "genbar = pd.DataFrame(data=gen)\n",
    "gen2 = {'Taxa': ['Genus\\n'+str(len(genusrr))+'/312'], 'Count': pd.Series([100])}\n",
    "genbar2 = pd.DataFrame(data=gen2)"
   ]
  },
  {
   "cell_type": "code",
   "execution_count": 113,
   "metadata": {},
   "outputs": [
    {
     "data": {
      "text/plain": [
       "645"
      ]
     },
     "execution_count": 113,
     "metadata": {},
     "output_type": "execute_result"
    }
   ],
   "source": [
    "len(asvrr)"
   ]
  },
  {
   "cell_type": "code",
   "execution_count": 114,
   "metadata": {},
   "outputs": [
    {
     "data": {
      "text/plain": [
       "1638"
      ]
     },
     "execution_count": 114,
     "metadata": {},
     "output_type": "execute_result"
    }
   ],
   "source": [
    "len(asvr)"
   ]
  },
  {
   "cell_type": "code",
   "execution_count": 115,
   "metadata": {},
   "outputs": [],
   "source": [
    "asv = {'Taxa': ['ASV\\n'+str(len(asvrr))+'/1638'], 'Count': pd.Series([len(asvrr)/len(asvr)*100])}\n",
    "asvbar = pd.DataFrame(data=asv)\n",
    "asv2 = {'Taxa': ['ASV\\n'+str(len(asvrr))+'/1638'], 'Count': pd.Series([100])}\n",
    "asvbar2 = pd.DataFrame(data=asv2)"
   ]
  },
  {
   "cell_type": "code",
   "execution_count": 116,
   "metadata": {},
   "outputs": [],
   "source": [
    "ghost = pd.concat([phybar,clasbar,orderbar,fambar,genbar,asvbar])\n",
    "ghost1 = pd.concat([phybar2,clasbar2,orderbar2,fambar2,genbar2,asvbar2])"
   ]
  },
  {
   "cell_type": "code",
   "execution_count": 117,
   "metadata": {},
   "outputs": [],
   "source": [
    "ghost1 = ghost1.rename(columns = {'Count':\"Percentage Rhythmic\", \"Taxa\":'Taxonomic Level'})\n",
    "ghost = ghost.rename(columns = {'Count':\"Percentage Rhythmic\",'Taxa': 'Taxonomic Level'})"
   ]
  },
  {
   "cell_type": "code",
   "execution_count": 118,
   "metadata": {},
   "outputs": [
    {
     "data": {
      "image/png": "[encoded data removed]",
      "text/plain": [
       "<Figure size 158.4x288 with 1 Axes>"
      ]
     },
     "metadata": {},
     "output_type": "display_data"
    }
   ],
   "source": [
    "fig, ax = plt.subplots(figsize = (2.2, 4))\n",
    "sns.set(style=\"white\")\n",
    "sns.despine(bottom = True, left = True)\n",
    "jk = sns.barplot(y = ghost1['Taxonomic Level'],x = ghost1['Percentage Rhythmic'], color = 'lightblue')\n",
    "j = sns.barplot(y = ghost['Taxonomic Level'],x = ghost['Percentage Rhythmic'], color = 'darkblue')\n",
    "#asvplot111 = sns.barplot(x = asvbar['ASV'],y = asvbar[''], color = 'darkblue')\n",
    "#asvplot111.set(xlabel = None)\n",
    "#asvplot211.set(xlabel = None)\n",
    "top_bar = mpatches.Patch(color='darkblue', label='Rhythmic')\n",
    "bottom_bar = mpatches.Patch(color='lightblue', label='Arrhythmic')\n",
    "ax.set_ylabel('Taxonomic Level', fontsize = 13)\n",
    "ax.set_xlabel('Percentage Rhythmic', fontsize = 13)\n",
    "#plt.text(color = 'white', x = 0, y = 2.5,s = '8/15',fontsize = 'medium')\n",
    "plt.legend(handles=[top_bar, bottom_bar], facecolor = 'white', loc = (0.85,-0.35), edgecolor = 'white')\n",
    "plt.setp(j.get_legend().get_texts(), fontsize='11')\n",
    "#plt.legend(facecolor='white', framealpha=1)\n",
    "plt.savefig('/home/shs008/zarrinpar/Pynchon/Notebooks/arrhythmia/agp/results_20220418/Figures/Final Figures/figure3/no_bloom_nh_seasonal.svg', format = 'svg')"
   ]
  },
  {
   "cell_type": "markdown",
   "metadata": {},
   "source": [
    "## Seasonal Northern Hemisphere bloom"
   ]
  },
  {
   "cell_type": "code",
   "execution_count": 268,
   "metadata": {},
   "outputs": [],
   "source": [
    "phyr = pd.read_csv('/home/shs008/zarrinpar/Pynchon/Notebooks/arrhythmia/agp/results_20220418/Cosinor_results/Whole Data/2023/seasonal/bloom/nh_phylum.csv', index_col = 'test')\n",
    "classr = pd.read_csv('/home/shs008/zarrinpar/Pynchon/Notebooks/arrhythmia/agp/results_20220418/Cosinor_results/Whole Data/2023/seasonal/bloom/nh_class.csv', index_col = 'test')\n",
    "orderr = pd.read_csv('/home/shs008/zarrinpar/Pynchon/Notebooks/arrhythmia/agp/results_20220418/Cosinor_results/Whole Data/2023/seasonal/bloom/nh_order.csv', index_col = 'test')\n",
    "familyr = pd.read_csv('/home/shs008/zarrinpar/Pynchon/Notebooks/arrhythmia/agp/results_20220418/Cosinor_results/Whole Data/2023/seasonal/bloom/nh_family.csv', index_col = 'test')\n",
    "genusr = pd.read_csv('/home/shs008/zarrinpar/Pynchon/Notebooks/arrhythmia/agp/results_20220418/Cosinor_results/Whole Data/2023/seasonal/bloom/nh_genus.csv', index_col = 'test')\n",
    "asvr = pd.read_csv('/home/shs008/zarrinpar/Pynchon/Notebooks/arrhythmia/agp/results_20220418/Cosinor_results/Whole Data/2023/seasonal/bloom/nh_asv.csv', index_col = 'test')"
   ]
  },
  {
   "cell_type": "code",
   "execution_count": 269,
   "metadata": {},
   "outputs": [],
   "source": [
    "phyrr = phyr[phyr.q<0.05]\n",
    "classrr = classr[classr.q<0.05]\n",
    "orderrr = orderr[orderr.q<0.05]\n",
    "familyrr = familyr[familyr.q<0.05]\n",
    "genusrr = genusr[genusr.q<0.05]\n",
    "asvrr = asvr[asvr.q<0.05]"
   ]
  },
  {
   "cell_type": "code",
   "execution_count": 270,
   "metadata": {},
   "outputs": [
    {
     "data": {
      "text/plain": [
       "14"
      ]
     },
     "execution_count": 270,
     "metadata": {},
     "output_type": "execute_result"
    }
   ],
   "source": [
    "len(phyr)"
   ]
  },
  {
   "cell_type": "code",
   "execution_count": 271,
   "metadata": {},
   "outputs": [
    {
     "data": {
      "text/plain": [
       "14"
      ]
     },
     "execution_count": 271,
     "metadata": {},
     "output_type": "execute_result"
    }
   ],
   "source": [
    "len(phyrr)"
   ]
  },
  {
   "cell_type": "code",
   "execution_count": 272,
   "metadata": {},
   "outputs": [],
   "source": [
    "phy = {'Taxa': ['Phylum\\n'+str(len(phyrr))+'/14'], 'Count': pd.Series([len(phyrr)/len(phyr)*100])}\n",
    "phybar = pd.DataFrame(data=phy)\n",
    "phy2 = {'Taxa': ['Phylum\\n'+str(len(phyrr))+'/14'], 'Count': pd.Series([100])}\n",
    "phybar2 = pd.DataFrame(data=phy2)"
   ]
  },
  {
   "cell_type": "code",
   "execution_count": 273,
   "metadata": {},
   "outputs": [
    {
     "data": {
      "text/plain": [
       "23"
      ]
     },
     "execution_count": 273,
     "metadata": {},
     "output_type": "execute_result"
    }
   ],
   "source": [
    "len(classr)"
   ]
  },
  {
   "cell_type": "code",
   "execution_count": 274,
   "metadata": {},
   "outputs": [
    {
     "data": {
      "text/plain": [
       "22"
      ]
     },
     "execution_count": 274,
     "metadata": {},
     "output_type": "execute_result"
    }
   ],
   "source": [
    "len(classrr)"
   ]
  },
  {
   "cell_type": "code",
   "execution_count": 275,
   "metadata": {},
   "outputs": [],
   "source": [
    "clas = {'Taxa': ['Class\\n'+str(len(classrr))+'/23'], 'Count': pd.Series([len(classrr)/len(classr)*100])}\n",
    "clasbar = pd.DataFrame(data=clas)\n",
    "clas2 = {'Taxa': ['Class\\n'+str(len(classrr))+'/23'], 'Count': pd.Series([100])}\n",
    "clasbar2 = pd.DataFrame(data=clas2)"
   ]
  },
  {
   "cell_type": "code",
   "execution_count": 276,
   "metadata": {},
   "outputs": [
    {
     "data": {
      "text/plain": [
       "59"
      ]
     },
     "execution_count": 276,
     "metadata": {},
     "output_type": "execute_result"
    }
   ],
   "source": [
    "len(orderr)"
   ]
  },
  {
   "cell_type": "code",
   "execution_count": 277,
   "metadata": {},
   "outputs": [
    {
     "data": {
      "text/plain": [
       "48"
      ]
     },
     "execution_count": 277,
     "metadata": {},
     "output_type": "execute_result"
    }
   ],
   "source": [
    "len(orderrr)"
   ]
  },
  {
   "cell_type": "code",
   "execution_count": 278,
   "metadata": {},
   "outputs": [],
   "source": [
    "order = {'Taxa': ['Order\\n'+str(len(orderrr))+'/59'], 'Count': pd.Series([len(orderrr)/len(orderr)*100])}\n",
    "orderbar = pd.DataFrame(data=order)\n",
    "order2 = {'Taxa': ['Order\\n'+str(len(orderrr))+'/59'], 'Count': pd.Series([100])}\n",
    "orderbar2 = pd.DataFrame(data=order2)"
   ]
  },
  {
   "cell_type": "code",
   "execution_count": 279,
   "metadata": {},
   "outputs": [
    {
     "data": {
      "text/plain": [
       "114"
      ]
     },
     "execution_count": 279,
     "metadata": {},
     "output_type": "execute_result"
    }
   ],
   "source": [
    "len(familyr)"
   ]
  },
  {
   "cell_type": "code",
   "execution_count": 280,
   "metadata": {},
   "outputs": [
    {
     "data": {
      "text/plain": [
       "90"
      ]
     },
     "execution_count": 280,
     "metadata": {},
     "output_type": "execute_result"
    }
   ],
   "source": [
    "len(familyrr)"
   ]
  },
  {
   "cell_type": "code",
   "execution_count": 281,
   "metadata": {},
   "outputs": [],
   "source": [
    "fam = {'Taxa': ['Family\\n'+str(len(familyrr))+'/113'], 'Count': pd.Series([len(familyrr)/len(familyr)*100])}\n",
    "fambar = pd.DataFrame(data=fam)\n",
    "fam2 = {'Taxa': ['Family\\n'+str(len(familyrr))+'/113'], 'Count': pd.Series([100])}\n",
    "fambar2 = pd.DataFrame(data=fam2)"
   ]
  },
  {
   "cell_type": "code",
   "execution_count": 282,
   "metadata": {},
   "outputs": [
    {
     "data": {
      "text/plain": [
       "315"
      ]
     },
     "execution_count": 282,
     "metadata": {},
     "output_type": "execute_result"
    }
   ],
   "source": [
    "len(genusr)"
   ]
  },
  {
   "cell_type": "code",
   "execution_count": 283,
   "metadata": {},
   "outputs": [
    {
     "data": {
      "text/plain": [
       "225"
      ]
     },
     "execution_count": 283,
     "metadata": {},
     "output_type": "execute_result"
    }
   ],
   "source": [
    "len(genusrr)"
   ]
  },
  {
   "cell_type": "code",
   "execution_count": 284,
   "metadata": {},
   "outputs": [],
   "source": [
    "gen = {'Taxa': ['Genus\\n'+str(len(genusrr))+'/312'], 'Count': pd.Series([len(genusrr)/len(genusr)*100])}\n",
    "genbar = pd.DataFrame(data=gen)\n",
    "gen2 = {'Taxa': ['Genus\\n'+str(len(genusrr))+'/312'], 'Count': pd.Series([100])}\n",
    "genbar2 = pd.DataFrame(data=gen2)"
   ]
  },
  {
   "cell_type": "code",
   "execution_count": 285,
   "metadata": {},
   "outputs": [
    {
     "data": {
      "text/plain": [
       "663"
      ]
     },
     "execution_count": 285,
     "metadata": {},
     "output_type": "execute_result"
    }
   ],
   "source": [
    "len(asvrr)"
   ]
  },
  {
   "cell_type": "code",
   "execution_count": 286,
   "metadata": {},
   "outputs": [
    {
     "data": {
      "text/plain": [
       "1653"
      ]
     },
     "execution_count": 286,
     "metadata": {},
     "output_type": "execute_result"
    }
   ],
   "source": [
    "len(asvr)"
   ]
  },
  {
   "cell_type": "code",
   "execution_count": 287,
   "metadata": {},
   "outputs": [],
   "source": [
    "asv = {'Taxa': ['ASV\\n'+str(len(asvrr))+'/'+str(len(asvr))], 'Count': pd.Series([len(asvrr)/len(asvr)*100])}\n",
    "asvbar = pd.DataFrame(data=asv)\n",
    "asv2 = {'Taxa': ['ASV\\n'+str(len(asvrr))+'/'+str(len(asvr))], 'Count': pd.Series([100])}\n",
    "asvbar2 = pd.DataFrame(data=asv2)"
   ]
  },
  {
   "cell_type": "code",
   "execution_count": 288,
   "metadata": {},
   "outputs": [],
   "source": [
    "ghost = pd.concat([phybar,clasbar,orderbar,fambar,genbar,asvbar])\n",
    "ghost1 = pd.concat([phybar2,clasbar2,orderbar2,fambar2,genbar2,asvbar2])"
   ]
  },
  {
   "cell_type": "code",
   "execution_count": 289,
   "metadata": {},
   "outputs": [],
   "source": [
    "ghost1 = ghost1.rename(columns = {'Count':\"Percentage Rhythmic\", \"Taxa\":'Taxonomic Level'})\n",
    "ghost = ghost.rename(columns = {'Count':\"Percentage Rhythmic\",'Taxa': 'Taxonomic Level'})"
   ]
  },
  {
   "cell_type": "code",
   "execution_count": 290,
   "metadata": {},
   "outputs": [
    {
     "data": {
      "text/plain": [
       "[None, None, None, None]"
      ]
     },
     "execution_count": 290,
     "metadata": {},
     "output_type": "execute_result"
    },
    {
     "data": {
      "image/png": "[encoded data removed]",
      "text/plain": [
       "<Figure size 158.4x288 with 1 Axes>"
      ]
     },
     "metadata": {},
     "output_type": "display_data"
    }
   ],
   "source": [
    "fig, ax = plt.subplots(figsize = (2.2, 4))\n",
    "sns.set(style=\"white\")\n",
    "sns.despine(bottom = True, left = True)\n",
    "jk = sns.barplot(y = ghost1['Taxonomic Level'],x = ghost1['Percentage Rhythmic'], color = 'lightblue')\n",
    "j = sns.barplot(y = ghost['Taxonomic Level'],x = ghost['Percentage Rhythmic'], color = 'darkblue')\n",
    "#asvplot111 = sns.barplot(x = asvbar['ASV'],y = asvbar[''], color = 'darkblue')\n",
    "#asvplot111.set(xlabel = None)\n",
    "#asvplot211.set(xlabel = None)\n",
    "top_bar = mpatches.Patch(color='darkblue', label='Rhythmic')\n",
    "bottom_bar = mpatches.Patch(color='lightblue', label='Arrhythmic')\n",
    "ax.set_ylabel('Taxonomic Level', fontsize = 13)\n",
    "ax.set_xlabel('Percentage Rhythmic', fontsize = 13)\n",
    "#plt.text(color = 'white', x = 0, y = 2.5,s = '8/15',fontsize = 'medium')\n",
    "plt.legend(handles=[top_bar, bottom_bar], facecolor = 'white', loc = (0.85,-0.35), edgecolor = 'white')\n",
    "plt.setp(j.get_legend().get_texts(), fontsize='11')\n",
    "#plt.legend(facecolor='white', framealpha=1)\n",
    "#plt.savefig('/home/shs008/zarrinpar/Pynchon/Notebooks/arrhythmia/agp/results_20220418/Figures/Final Figures/figure1/tax_barplot.svg', format = 'svg')"
   ]
  },
  {
   "cell_type": "code",
   "execution_count": 291,
   "metadata": {},
   "outputs": [],
   "source": [
    "## Diurnal With blooms"
   ]
  },
  {
   "cell_type": "code",
   "execution_count": null,
   "metadata": {},
   "outputs": [],
   "source": []
  },
  {
   "cell_type": "code",
   "execution_count": null,
   "metadata": {},
   "outputs": [],
   "source": []
  },
  {
   "cell_type": "code",
   "execution_count": null,
   "metadata": {},
   "outputs": [],
   "source": []
  },
  {
   "cell_type": "code",
   "execution_count": null,
   "metadata": {},
   "outputs": [],
   "source": []
  },
  {
   "cell_type": "code",
   "execution_count": null,
   "metadata": {},
   "outputs": [],
   "source": []
  },
  {
   "cell_type": "code",
   "execution_count": null,
   "metadata": {},
   "outputs": [],
   "source": []
  },
  {
   "cell_type": "code",
   "execution_count": null,
   "metadata": {},
   "outputs": [],
   "source": []
  },
  {
   "cell_type": "code",
   "execution_count": null,
   "metadata": {},
   "outputs": [],
   "source": []
  },
  {
   "cell_type": "code",
   "execution_count": null,
   "metadata": {},
   "outputs": [],
   "source": []
  },
  {
   "cell_type": "code",
   "execution_count": null,
   "metadata": {},
   "outputs": [],
   "source": []
  },
  {
   "cell_type": "code",
   "execution_count": null,
   "metadata": {},
   "outputs": [],
   "source": []
  },
  {
   "cell_type": "code",
   "execution_count": null,
   "metadata": {},
   "outputs": [],
   "source": []
  }
 ],
 "metadata": {
  "kernelspec": {
   "display_name": "mmvec-qiime2-2020.11",
   "language": "python",
   "name": "mmvec-qiime2-2020.11"
  },
  "language_info": {
   "codemirror_mode": {
    "name": "ipython",
    "version": 3
   },
   "file_extension": ".py",
   "mimetype": "text/x-python",
   "name": "python",
   "nbconvert_exporter": "python",
   "pygments_lexer": "ipython3",
   "version": "3.6.12"
  }
 },
 "nbformat": 4,
 "nbformat_minor": 4
}
