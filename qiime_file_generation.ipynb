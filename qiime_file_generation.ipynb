{
 "cells": [
  {
   "cell_type": "code",
   "execution_count": 1,
   "metadata": {},
   "outputs": [],
   "source": [
    "eval \"$(/opt/anaconda3/bin/conda shell.bash hook)\""
   ]
  },
  {
   "cell_type": "code",
   "execution_count": 3,
   "metadata": {
    "scrolled": true
   },
   "outputs": [
    {
     "name": "stdout",
     "output_type": "stream",
     "text": [
      "# conda environments:\n",
      "#\n",
      "base                  *  /mnt/zarrinpar/Pynchon/opt/anaconda3\n",
      "R                        /mnt/zarrinpar/Pynchon/opt/anaconda3/envs/R\n",
      "aldex2                   /mnt/zarrinpar/Pynchon/opt/anaconda3/envs/aldex2\n",
      "aldex2-qiime2-2019.7     /mnt/zarrinpar/Pynchon/opt/anaconda3/envs/aldex2-qiime2-2019.7\n",
      "anaconda                 /mnt/zarrinpar/Pynchon/opt/anaconda3/envs/anaconda\n",
      "anvio-8                  /mnt/zarrinpar/Pynchon/opt/anaconda3/envs/anvio-8\n",
      "bakta                    /mnt/zarrinpar/Pynchon/opt/anaconda3/envs/bakta\n",
      "birdman                  /mnt/zarrinpar/Pynchon/opt/anaconda3/envs/birdman\n",
      "deseq2                   /mnt/zarrinpar/Pynchon/opt/anaconda3/envs/deseq2\n",
      "eggnog                   /mnt/zarrinpar/Pynchon/opt/anaconda3/envs/eggnog\n",
      "gemelli-qiime2-2023.9     /mnt/zarrinpar/Pynchon/opt/anaconda3/envs/gemelli-qiime2-2023.9\n",
      "microbe_masst            /mnt/zarrinpar/Pynchon/opt/anaconda3/envs/microbe_masst\n",
      "mmvec-qiime2-2020.11     /mnt/zarrinpar/Pynchon/opt/anaconda3/envs/mmvec-qiime2-2020.11\n",
      "panaroo                  /mnt/zarrinpar/Pynchon/opt/anaconda3/envs/panaroo\n",
      "pycircos                 /mnt/zarrinpar/Pynchon/opt/anaconda3/envs/pycircos\n",
      "qiime2-2023.7            /mnt/zarrinpar/Pynchon/opt/anaconda3/envs/qiime2-2023.7\n",
      "qiime2-amplicon-2024.2     /mnt/zarrinpar/Pynchon/opt/anaconda3/envs/qiime2-amplicon-2024.2\n",
      "quast                    /mnt/zarrinpar/Pynchon/opt/anaconda3/envs/quast\n",
      "songbird-qiime2-2020.6     /mnt/zarrinpar/Pynchon/opt/anaconda3/envs/songbird-qiime2-2020.6\n",
      "trycycler                /mnt/zarrinpar/Pynchon/opt/anaconda3/envs/trycycler\n",
      "unicycler                /mnt/zarrinpar/Pynchon/opt/anaconda3/envs/unicycler\n",
      "woltka                   /mnt/zarrinpar/Pynchon/opt/anaconda3/envs/woltka\n",
      "\n"
     ]
    }
   ],
   "source": [
    "conda info --envs"
   ]
  },
  {
   "cell_type": "code",
   "execution_count": 4,
   "metadata": {},
   "outputs": [
    {
     "name": "stdout",
     "output_type": "stream",
     "text": [
      "(qiime2-2023.7) \n"
     ]
    }
   ],
   "source": [
    "conda activate qiime2-2023.7"
   ]
  },
  {
   "cell_type": "code",
   "execution_count": 5,
   "metadata": {},
   "outputs": [
    {
     "name": "stdout",
     "output_type": "stream",
     "text": [
      "(qiime2-2023.7) \n",
      "(qiime2-2023.7) \n",
      "(qiime2-2023.7) \n",
      "(qiime2-2023.7) \n"
     ]
    }
   ],
   "source": [
    "export TMPDIR=/mnt/zarrinpar/scratch/$USER/tmp\n",
    "export TMP=$TMPDIR\n",
    "export TEMP=$TMP\n",
    "export TEMPDIR=$TMP"
   ]
  },
  {
   "cell_type": "code",
   "execution_count": 6,
   "metadata": {},
   "outputs": [
    {
     "name": "stdout",
     "output_type": "stream",
     "text": [
      "\u001b[32mImported pruned_asvs.fasta as DNAFASTAFormat to pruned_asvs.seqs.qza\u001b[0m\n",
      "\u001b[0m(qiime2-2023.7) \n"
     ]
    }
   ],
   "source": [
    "qiime tools import --input-format DNAFASTAFormat --type 'FeatureData[Sequence]' --input-path pruned_asvs.fasta --output-path pruned_asvs.seqs.qza"
   ]
  },
  {
   "cell_type": "code",
   "execution_count": 7,
   "metadata": {},
   "outputs": [
    {
     "name": "stdout",
     "output_type": "stream",
     "text": [
      "\u001b[32mSaved FeatureData[Taxonomy] to: pruned_asvs.taxonomy.qza\u001b[0m\n",
      "\u001b[0m(qiime2-2023.7) \n"
     ]
    }
   ],
   "source": [
    "qiime feature-classifier classify-sklearn --i-reads pruned_asvs.seqs.qza --i-classifier /mnt/zarrinpar/Pynchon/Databases/qiime2/qiime2-2022.02/silva-138-99-515-806-nb-classifier.qza --p-n-jobs 48 --o-classification pruned_asvs.taxonomy.qza"
   ]
  },
  {
   "cell_type": "markdown",
   "metadata": {},
   "source": [
    "## Beta Diversity"
   ]
  },
  {
   "cell_type": "code",
   "execution_count": 17,
   "metadata": {},
   "outputs": [
    {
     "name": "stdout",
     "output_type": "stream",
     "text": [
      "\u001b[32mSaved FeatureData[AlignedSequence] to: pruned_asvs.aligned_seqs.qza\u001b[0m\n",
      "\u001b[32mSaved FeatureData[AlignedSequence] to: pruned_asvs.aligned_seqs.masked.qza\u001b[0m\n",
      "\u001b[32mSaved Phylogeny[Unrooted] to: pruned_asvs.tree.unused.qza\u001b[0m\n",
      "\u001b[32mSaved Phylogeny[Rooted] to: pruned_asvs.tree.qza\u001b[0m\n",
      "\u001b[0m(qiime2-2022.2) \n"
     ]
    }
   ],
   "source": [
    "  qiime phylogeny align-to-tree-mafft-fasttree \\\n",
    "    --i-sequences /mnt/zarrinpar/Pynchon/Notebooks/arrhythmia/agp/new_filtering2/pruned_asvs.seqs.qza \\\n",
    "    --p-n-threads 30 \\\n",
    "    --o-alignment pruned_asvs.aligned_seqs.qza \\\n",
    "    --o-masked-alignment pruned_asvs.aligned_seqs.masked.qza \\\n",
    "    --o-tree pruned_asvs.tree.unused.qza \\\n",
    "    --o-rooted-tree pruned_asvs.tree.qza "
   ]
  },
  {
   "cell_type": "code",
   "execution_count": 24,
   "metadata": {},
   "outputs": [
    {
     "name": "stdout",
     "output_type": "stream",
     "text": [
      "\u001b[32mSaved DistanceMatrix to: unweighted-unifrac-dm.qza\u001b[0m\n",
      "\u001b[0m(qiime2-amplicon-2024.2) \n"
     ]
    }
   ],
   "source": [
    "  qiime diversity-lib unweighted-unifrac \\\n",
    "    --i-table /mnt/zarrinpar/Pynchon/Notebooks/arrhythmia/agp/new_filtering2/pruned_feature_table.qza \\\n",
    "    --i-phylogeny /mnt/zarrinpar/Pynchon/Notebooks/arrhythmia/agp/new_filtering2/pruned_asvs.tree.qza \\\n",
    "    --p-threads 40 \\\n",
    "    --o-distance-matrix unweighted-unifrac-dm.qza"
   ]
  },
  {
   "cell_type": "code",
   "execution_count": 12,
   "metadata": {},
   "outputs": [
    {
     "name": "stdout",
     "output_type": "stream",
     "text": [
      "\u001b[32mSaved DistanceMatrix to: weighted-unifrac-reps-dm.qza\u001b[0m\n",
      "\u001b[0m(qiime2-2022.2) "
     ]
    },
    {
     "ename": "",
     "evalue": "1",
     "output_type": "error",
     "traceback": []
    }
   ],
   "source": [
    "  qiime diversity-lib weighted-unifrac \\\n",
    "    --i-table /mnt/zarrinpar/Pynchon/Notebooks/arrhythmia/agp/new_filtering2/pruned_feature_table.qza \\\n",
    "    --i-phylogeny /mnt/zarrinpar/Pynchon/Notebooks/arrhythmia/agp/new_filtering2/pruned_asvs.tree.qza \\\n",
    "    --p-threads 40 \\\n",
    "    --o-distance-matrix weighted-unifrac-reps-dm.qza"
   ]
  },
  {
   "cell_type": "code",
   "execution_count": 25,
   "metadata": {},
   "outputs": [
    {
     "name": "stdout",
     "output_type": "stream",
     "text": [
      "\u001b[32mExported /mnt/zarrinpar/Pynchon/Notebooks/arrhythmia/agp/new_filtering2/unweighted-unifrac-dm.qza as DistanceMatrixDirectoryFormat to directory /mnt/zarrinpar/Pynchon/Notebooks/arrhythmia/agp/new_filtering2/unweighted-unifrac-dm.biom/\u001b[0m\n",
      "\u001b[0m(qiime2-amplicon-2024.2) \n"
     ]
    }
   ],
   "source": [
    "#Convert to biom file type\n",
    "qiime tools export \\\n",
    "    --input-path /mnt/zarrinpar/Pynchon/Notebooks/arrhythmia/agp/new_filtering2/unweighted-unifrac-dm.qza \\\n",
    "    --output-path /mnt/zarrinpar/Pynchon/Notebooks/arrhythmia/agp/new_filtering2/unweighted-unifrac-dm.biom/"
   ]
  },
  {
   "cell_type": "code",
   "execution_count": 14,
   "metadata": {},
   "outputs": [
    {
     "name": "stdout",
     "output_type": "stream",
     "text": [
      "\u001b[32mExported /mnt/zarrinpar/Pynchon/Notebooks/arrhythmia/agp/new_filtering2/weighted-unifrac-reps-dm.qza as DistanceMatrixDirectoryFormat to directory /mnt/zarrinpar/Pynchon/Notebooks/arrhythmia/agp/new_filtering2/weighted-unifrac-reps-dm.biom/\u001b[0m\n",
      "\u001b[0m(qiime2-2022.2) "
     ]
    },
    {
     "ename": "",
     "evalue": "1",
     "output_type": "error",
     "traceback": []
    }
   ],
   "source": [
    "qiime tools export \\\n",
    "    --input-path /mnt/zarrinpar/Pynchon/Notebooks/arrhythmia/agp/new_filtering2/weighted-unifrac-reps-dm.qza \\\n",
    "    --output-path /mnt/zarrinpar/Pynchon/Notebooks/arrhythmia/agp/new_filtering2/weighted-unifrac-reps-dm.biom/"
   ]
  },
  {
   "cell_type": "code",
   "execution_count": null,
   "metadata": {},
   "outputs": [],
   "source": []
  }
 ],
 "metadata": {
  "kernelspec": {
   "display_name": "Bash",
   "language": "bash",
   "name": "bash"
  },
  "language_info": {
   "codemirror_mode": "shell",
   "file_extension": ".sh",
   "mimetype": "text/x-sh",
   "name": "bash"
  }
 },
 "nbformat": 4,
 "nbformat_minor": 4
}
