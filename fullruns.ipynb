{
 "cells": [
  {
   "cell_type": "code",
   "execution_count": 1,
   "id": "0ecda8a5-1527-4ecb-ab49-b46a6a813cd6",
   "metadata": {
    "collapsed": true,
    "jupyter": {
     "outputs_hidden": true
    }
   },
   "outputs": [],
   "source": [
    "import numpy as np\n",
    "import pandas as pd\n",
    "from CosinorPy import cosinor1"
   ]
  },
  {
   "cell_type": "code",
   "execution_count": 2,
   "id": "568631a8-cc78-4cb0-84eb-04586ed0f0db",
   "metadata": {
    "collapsed": true,
    "jupyter": {
     "outputs_hidden": true
    }
   },
   "outputs": [],
   "source": [
    "def fcosinor(joint_file):\n",
    "    joint_file = joint_file.astype(float)\n",
    "    melted = pd.melt(joint_file, id_vars='col_bin', var_name='test', value_name='y')\n",
    "    melted['x'] = melted['col_bin']\n",
    "    cosinor_results = cosinor1.fit_group(melted, period=[24], plot_on=False).sort_values(by='q')\n",
    "    print(cosinor_results['q'].lt(0.05).sum())\n",
    "    return cosinor_results"
   ]
  },
  {
   "cell_type": "code",
   "execution_count": 3,
   "id": "9cbb62ad-693f-4e64-993f-a54a3d271183",
   "metadata": {
    "collapsed": true,
    "jupyter": {
     "outputs_hidden": true
    }
   },
   "outputs": [
    {
     "name": "stderr",
     "output_type": "stream",
     "text": [
      "\n",
      "KeyboardInterrupt\n",
      "\n"
     ]
    }
   ],
   "source": [
    "metadata = pd.read_csv('/home/shs008/zarrinpar/Pynchon/Notebooks/arrhythmia/agp/new_filtering2/metadata_all_col.csv', low_memory=False, index_col='sample_id')\n",
    "datasets = ['genus', 'family', 'class', 'order', 'asv', 'phylum']\n",
    "results_dir = '/home/shs008/zarrinpar/Pynchon/Notebooks/arrhythmia/agp/new_filtering2/results/t'\n",
    "input_dir = '/home/shs008/zarrinpar/Pynchon/Notebooks/arrhythmia/agp/new_filtering2/'\n",
    "\n",
    "for dataset in datasets:\n",
    "    df = pd.read_csv(f'{input_dir}{dataset}.csv', low_memory=False, index_col='Unnamed: 0')\n",
    "    results = fcosinor(df.join(metadata['col_bin']))\n",
    "    results.to_csv(f'{results_dir}{dataset}.csv')"
   ]
  }
 ],
 "metadata": {
  "kernelspec": {
   "display_name": "qiime2-2023.7",
   "language": "python",
   "name": "qiime2-2023.7"
  },
  "language_info": {
   "codemirror_mode": {
    "name": "ipython",
    "version": 3
   },
   "file_extension": ".py",
   "mimetype": "text/x-python",
   "name": "python",
   "nbconvert_exporter": "python",
   "pygments_lexer": "ipython3",
   "version": "3.8.15"
  }
 },
 "nbformat": 4,
 "nbformat_minor": 5
}
